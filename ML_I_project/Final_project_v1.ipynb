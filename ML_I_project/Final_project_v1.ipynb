{
 "cells": [
  {
   "cell_type": "markdown",
   "metadata": {
    "colab_type": "text",
    "id": "ajaDjC5QQb5m",
    "toc": true
   },
   "source": [
    "<h1>Table of Contents<span class=\"tocSkip\"></span></h1>\n",
    "<div class=\"toc\">\n",
    "<ul class=\"toc-item\">\n",
    "\n",
    "<li>\n",
    "<span>\n",
    "<a href=\"#Overview\" data-toc-modified-id=\"Overview-1\">\n",
    "<span class=\"toc-item-num\">1&nbsp;&nbsp;</span>Overview</a>\n",
    "</span>\n",
    "</li>\n",
    "\n",
    "<li>\n",
    "<span>\n",
    "<a href=\"#Data-Preprocessing\" data-toc-modified-id=\"Data-Preprocessing-2\"><span class=\"toc-item-num\">2&nbsp;&nbsp;</span>Data Preprocessing</a></span><ul class=\"toc-item\"><li>\n",
    "\n",
    "<span><a href=\"#Loading-data\" data-toc-modified-id=\"Loading-data-2.1\"><span class=\"toc-item-num\">2.1&nbsp;&nbsp;</span>Loading data</a></span></li><li>\n",
    "\n",
    "<span><a href=\"#Dividing-the-training-data-into-training-and-validation\" data-toc-modified-id=\"Dividing-the-training-data-into-training-and-validation-2.2\"><span class=\"toc-item-num\">2.2&nbsp;&nbsp;</span>Dividing the training data into training and validation</a></span></li><li>\n",
    "\n",
    "<span><a href=\"#Getting-the-name-of-the-target\" data-toc-modified-id=\"Getting-the-name-of-the-target-2.3\"><span class=\"toc-item-num\">2.3&nbsp;&nbsp;</span>Getting the name of the target</a></span></li><li>\n",
    "\n",
    "<span><a href=\"#Handling-the-identifiers\" data-toc-modified-id=\"Handling-the-identifiers-2.4\"><span class=\"toc-item-num\">2.4&nbsp;&nbsp;</span>Handling the identifiers</a></span></li><li>\n",
    "\n",
    "<span><a href=\"#Handling-uncommon-variables\" data-toc-modified-id=\"Handling-uncommon-variables-2.5\"><span class=\"toc-item-num\">2.5&nbsp;&nbsp;</span>Handling uncommon variables</a></span></li><li>\n",
    "\n",
    "<span><a href=\"#Handling-missing-data\" data-toc-modified-id=\"Handling-missing-data-2.7\"><span class=\"toc-item-num\">3.7&nbsp;&nbsp;</span>Handling missing data</a></span></li><li>\n",
    "\n",
    "<span><a href=\"#Encoding-the-data\" data-toc-modified-id=\"Encoding-the-data-2.8\"><span class=\"toc-item-num\">2.8&nbsp;&nbsp;</span>Encoding the data</a></span></li><li>\n",
    "\n",
    "<span><a href=\"#Getting-the-name-of-the-features\" data-toc-modified-id=\"Getting-the-name-of-the-features-2.9\"><span class=\"toc-item-num\">2.9&nbsp;&nbsp;</span>Getting the name of the features</a></span></li><li>\n",
    "\n",
    "<span><a href=\"#Getting-the-feature-matrix-and-target-vector\" data-toc-modified-id=\"Getting-the-feature-matrix-and-target-vector-2.10\"><span class=\"toc-item-num\">2.10&nbsp;&nbsp;</span>Getting the feature matrix and target vector</a></span></li><li>\n",
    "\n",
    "<span><a href=\"#Scaling-the-data\" data-toc-modified-id=\"Scaling-the-data-2.11\"><span class=\"toc-item-num\">2.11&nbsp;&nbsp;</span>Scaling the data</a></span></li></ul></li>\n",
    "\n",
    "<li>\n",
    "<span>\n",
    "<a href=\"#Decision-Tree\" data-toc-modified-id=\"Decisio-Tree\"><span class=\"toc-item-num\">3&nbsp;&nbsp;</span>Decision Tree</a></span><ul class=\"toc-item\">\n",
    "\n",
    "<li><span><a href=\"#The-Sklearn-model\" data-toc-modified-id=\"The-Sklearn-model-3.1\"><span class=\"toc-item-num\">3.1&nbsp;&nbsp;</span>The Sklearn model</a></span></li>\n",
    "\n",
    "<li><span><a href=\"#Plot-the-decision-tree\" data-toc-modified-id=\"Plot-the-decision-tree-3.2\"><span class=\"toc-item-num\">3.2&nbsp;&nbsp;</span>Plot the decision tree</a></span></li>\n",
    "\n",
    "<li><span><a href=\"#Plot-the-feature-importance\" data-toc-modified-id=\"Plot-the-feature-importance-3.3\"><span class=\"toc-item-num\">3.3&nbsp;&nbsp;</span>Plot the feature importance</a></span></li></ul></li>\n",
    "\n",
    "<li><span><a href=\"#Bagging\" data-toc-modified-id=\"Bagging-3\"><span class=\"toc-item-num\">4&nbsp;&nbsp;</span>Bagging</a></span><ul class=\"toc-item\"><li><span><a href=\"#Random-Forest\" data-toc-modified-id=\"Random-Forest-4.1\"><span class=\"toc-item-num\">4.1&nbsp;&nbsp;</span>Random Forest</a></span><ul class=\"toc-item\">\n",
    "\n",
    "<li><span><a href=\"#The-Sklearn-model\" data-toc-modified-id=\"The-Sklearn-model-4.1.1\"><span class=\"toc-item-num\">4.1.1&nbsp;&nbsp;</span>The Sklearn model</a></span></li>\n",
    "\n",
    "<li><span><a href=\"#Plot-the-feature-importance\" data-toc-modified-id=\"Plot-the-feature-importance-4.1.2\"><span class=\"toc-item-num\">4.1.2&nbsp;&nbsp;</span>Plot the feature importance</a></span></li></ul></li></ul></li>\n",
    "\n",
    "<li><span><a href=\"#Boosting\" data-toc-modified-id=\"Boosting-5\"><span class=\"toc-item-num\">5&nbsp;&nbsp;</span>Boosting</a></span><ul class=\"toc-item\">\n",
    "\n",
    "<li><span><a href=\"#Adaboost\" data-toc-modified-id=\"Adaboost-5.1\"><span class=\"toc-item-num\">5.1&nbsp;&nbsp;</span>Adaboost</a></span><ul class=\"toc-item\">\n",
    "\n",
    "<li><span><a href=\"#The-Sklearn-model\" data-toc-modified-id=\"The-Sklearn-model-4.1.1\"><span class=\"toc-item-num\">4.1.1&nbsp;&nbsp;</span>The Sklearn model</a></span></li></ul></li>\n",
    "\n",
    "<li><span><a href=\"#Gradient-Boosting\" data-toc-modified-id=\"Gradient-Boosting-5.2\"><span class=\"toc-item-num\">5.2&nbsp;&nbsp;</span>Gradient Boosting</a></span><ul class=\"toc-item\">\n",
    "\n",
    "<li><span><a href=\"#The-Sklearn-model\" data-toc-modified-id=\"The-Sklearn-model-5.2.1\"><span class=\"toc-item-num\">5.2.1&nbsp;&nbsp;</span>The Sklearn model</a></span></li>\n",
    "\n",
    "<li><span><a href=\"#The-XGBoost-model\" data-toc-modified-id=\"The-XGBoost-model-5.2.2\"><span class=\"toc-item-num\">5.2.2&nbsp;&nbsp;</span>The XGBoost model</a></span></li></ul></li></ul></li>\n",
    "\n",
    "<li><span><a href=\"#Stacking\" data-toc-modified-id=\"Stacking-6\"><span class=\"toc-item-num\">6&nbsp;&nbsp;</span>Stacking</a></span><ul class=\"toc-item\">\n",
    "\n",
    "<li><span><a href=\"#The-Sklearn-model-(0.22-or-above)\" data-toc-modified-id=\"The-Sklearn-model-(0.22-or-above)-6.1\"><span class=\"toc-item-num\">6.1&nbsp;&nbsp;</span>The Sklearn model (0.22 or above)</a></span></li></ul></li>\n",
    "\n",
    "<li><span><a href=\"#Hyperparameter-Tuning-and-Model-Selection\" data-toc-modified-id=\"Hyperparameter-Tuning-and-Model-Selection-7\"><span class=\"toc-item-num\">7&nbsp;&nbsp;</span>Hyperparameter Tuning and Model Selection</a></span><ul class=\"toc-item\">\n",
    "\n",
    "<li><span><a href=\"#Creating-the-dictionary-of-the-models\" data-toc-modified-id=\"Creating-the-dictionary-of-the-models-7.1\"><span class=\"toc-item-num\">7.1&nbsp;&nbsp;</span>Creating the dictionary of the models</a></span></li>\n",
    "\n",
    "<li><span><a href=\"#Creating-the-dictionary-of-the-pipelines\" data-toc-modified-id=\"Creating-the-dictionary-of-the-pipelines-7.2\"><span class=\"toc-item-num\">7.2&nbsp;&nbsp;</span>Creating the dictionary of the pipelines</a></span></li>\n",
    "\n",
    "<li><span><a href=\"#Hyperparameter-tuning-and-model-selection-using-Sklearn-(0.22-or-above)\" data-toc-modified-id=\"Hyperparameter-tuning-and-model-selection-using-Sklearn-(0.22-or-above)-7.3\"><span class=\"toc-item-num\">7.3&nbsp;&nbsp;</span>Hyperparameter tuning and model selection using Sklearn (0.22 or above)</a></span><ul class=\"toc-item\">\n",
    "\n",
    "<li><span><a href=\"#Getting-the-predefined-split-cross-validator\" data-toc-modified-id=\"Getting-the-predefined-split-cross-validator-7.3.1\"><span class=\"toc-item-num\">7.3.1&nbsp;&nbsp;</span>Getting the predefined split cross-validator</a></span></li>\n",
    "\n",
    "<li><span><a href=\"#Creating-the-dictionary-of-the-parameter-grids\" data-toc-modified-id=\"Creating-the-dictionary-of-the-parameter-grids-7.3.2\"><span class=\"toc-item-num\">7.3.2&nbsp;&nbsp;</span>Creating the dictionary of the parameter grids</a></span>\n",
    "\n",
    "<ul class=\"toc-item\">\n",
    "\n",
    "<li><span><a href=\"#The-parameter-grid-for-logistic-regression\" data-toc-modified-id=\"The-parameter-grid-for-logistic-regression-7.3.2.1\"><span class=\"toc-item-num\">7.3.2.1&nbsp;&nbsp;</span>The parameter grid for logistic regression</a></span></li>\n",
    "\n",
    "<li><span><a href=\"#The-parameter-grid-for-decision-tree\" data-toc-modified-id=\"The-parameter-grid-for-decision-tree-7.3.2.2\"><span class=\"toc-item-num\">7.3.2.2&nbsp;&nbsp;</span>The parameter grid for decision tree</a></span></li>\n",
    "\n",
    "<li><span><a href=\"#The-parameter-grid-for-random-forest\" data-toc-modified-id=\"The-parameter-grid-for-random-forest-7.3.2.3\"><span class=\"toc-item-num\">7.3.2.3&nbsp;&nbsp;</span>The parameter grid for random forest</a></span></li>\n",
    "\n",
    "<li><span><a href=\"#The-parameter-grid-for-Adaboost\" data-toc-modified-id=\"The-parameter-grid-for-Adaboost-7.3.2.4\"><span class=\"toc-item-num\">7.3.2.4&nbsp;&nbsp;</span>The parameter grid for Adaboost</a></span></li>\n",
    "\n",
    "<li><span><a href=\"#The-parameter-grid-for-histogram-based-gradient-boosting\" data-toc-modified-id=\"The-parameter-grid-for-histogram-based-gradient-boosting-7.3.2.5\"><span class=\"toc-item-num\">7.3.2.5&nbsp;&nbsp;</span>The parameter grid for histogram-based gradient boosting</a></span></li>\n",
    "\n",
    "<li><span><a href=\"#The-parameter-grid-for-xgboost\" data-toc-modified-id=\"The-parameter-grid-for-xgboost-7.3.2.6\"><span class=\"toc-item-num\">7.3.2.6&nbsp;&nbsp;</span>The parameter grid for xgboost</a></span></li></ul></li>\n",
    "\n",
    "<li><span><a href=\"#Creating-the-directory-for-the-cv-results.\" data-toc-modified-id=\"Creating-the-directory-for-the-cv-results.-7.3.3\"><span class=\"toc-item-num\">7.3.3&nbsp;&nbsp;</span>Creating the directory for the cv results.</a></span></li>\n",
    "\n",
    "<li><span><a href=\"#Hyperparameter-tuning\" data-toc-modified-id=\"Hyperparameter-tuning-7.3.4\"><span class=\"toc-item-num\">7.3.4&nbsp;&nbsp;</span>Hyperparameter tuning</a></span></li>\n",
    "\n",
    "<li><span><a href=\"#Model-selection\" data-toc-modified-id=\"Model-selection-7.3.5\"><span class=\"toc-item-num\">7.3.5&nbsp;&nbsp;</span>Model selection</a></span></li></ul></li></ul></li>\n",
    "\n",
    "<li><span><a href=\"#MLP\" data-toc-modified-id=\"MLP-8\"><span class=\"toc-item-num\">8&nbsp;&nbsp;</span>MLP</a></span></li>\n",
    "\n",
    "<li><span><a href=\"#MLP\" data-toc-modified-id=\"CNN-9\"><span class=\"toc-item-num\">9&nbsp;&nbsp;</span>CNN</a></span></li>\n",
    "\n",
    "<li><span><a href=\"#Loss-Comparison\" data-toc-modified-id=\"Loss-Comparison-10\"><span class=\"toc-item-num\">10&nbsp;&nbsp;</span>Loss Comparison</a></span></li></ul></div>"
   ]
  },
  {
   "cell_type": "markdown",
   "metadata": {
    "colab_type": "text",
    "id": "9v5qu8ErQb5p"
   },
   "source": [
    "<b>\n",
    "\n",
    "<p>\n",
    "<center>\n",
    "<font size=\"5\">\n",
    "Machine Learning I (DATS 6202), Spring 2020\n",
    "</font>\n",
    "</center>\n",
    "</p>\n",
    "\n",
    "<p>\n",
    "<center>\n",
    "<font size=\"4\">\n",
    "Final Project\n",
    "</font>\n",
    "</center>\n",
    "</p>\n",
    "\n",
    "<p>\n",
    "<center>\n",
    "<font size=\"3\">\n",
    "Data Science, Columbian College of Arts & Sciences, George Washington University\n",
    "</font>\n",
    "</center>\n",
    "</p>\n",
    "\n",
    "<p>\n",
    "<center>\n",
    "<font size=\"3\">\n",
    "Author: Jialei Chen, Changhao Ying, Zhilin Wang\n",
    "</font>\n",
    "</center>\n",
    "</p>\n",
    "\n",
    "</b>"
   ]
  },
  {
   "cell_type": "markdown",
   "metadata": {
    "colab_type": "text",
    "id": "-E_ice24Qb5r"
   },
   "source": [
    "# Introduction\n",
    "- This project is about analysis of league of legend winrate and the raw data is from kaggle(https://www.kaggle.com/bobbyscience/league-of-legends-diamond-ranked-games-10-min)\n",
    "- League of Legends is a MOBA (multiplayer online battle arena) where 2 teams (blue and red) face off. There are 3 lanes, a jungle, and 5 roles. The goal is to take down the enemy Nexus to win the game.\n",
    "- This dataset contains the first 10min of 10k ranked games (SOLO QUEUE) from a high ELO (DIAMOND I to MASTER). There are 19 features per team (38 in total) collected after 10min in-game. This includes kills, deaths, gold, experience, level,etc.\n",
    "- The column blueWins is the target value (the value we are trying to predict). A value of 1 means the blue team has won. 0 means fail.\n",
    "- Warding totem: An item that a player can put on the map to reveal the nearby area. Minions: NPC that belong to both teams. They give gold when killed by players. Jungle minions: NPC that belong to NO TEAM. They give gold and buffs when killed by players. Elite monsters: Monsters with high hp/damage that give a massive bonus (gold/XP/stats) when killed by a team. Dragons: Elite monster which gives team bonus when killed. The 4th dragon killed by a team gives a massive stats bonus. The 5th dragon (Elder Dragon) offers a huge advantage to the team. Herald: Elite monster which gives stats bonus when killed by the player. It helps to push a lane and destroys structures. Towers: Structures you have to destroy to reach the enemy Nexus. Level: Champion level. Start at 1. Max is 18.\n",
    "- In this project, we will firstly preprocess the data and then apply different model to predict the target value: bluewin."
   ]
  },
  {
   "cell_type": "code",
   "execution_count": null,
   "metadata": {
    "colab": {},
    "colab_type": "code",
    "id": "zdRc2Uv0Wwm9"
   },
   "outputs": [],
   "source": []
  },
  {
   "cell_type": "markdown",
   "metadata": {
    "colab_type": "text",
    "id": "bsx_w6htQb50"
   },
   "source": [
    "# Data Preprocessing"
   ]
  },
  {
   "cell_type": "markdown",
   "metadata": {
    "colab_type": "text",
    "id": "cil-vrf8Qb51"
   },
   "source": [
    "## Loading data"
   ]
  },
  {
   "cell_type": "code",
   "execution_count": 5,
   "metadata": {
    "colab": {
     "base_uri": "https://localhost:8080/",
     "height": 495
    },
    "colab_type": "code",
    "executionInfo": {
     "elapsed": 14966,
     "status": "error",
     "timestamp": 1588129854429,
     "user": {
      "displayName": "Night Knight",
      "photoUrl": "",
      "userId": "03696411465182289903"
     },
     "user_tz": 240
    },
    "id": "eKlm6L2h4x-R",
    "outputId": "192ddbe4-20a6-4866-8795-9e985cd2c3c9"
   },
   "outputs": [],
   "source": [
    "# Implement me\n",
    "import matplotlib.pyplot as plt\n",
    "import pandas as pd\n",
    "import seaborn as sns\n",
    "from sklearn.model_selection import train_test_split\n",
    "\n",
    "# Load the raw all data\n",
    "df_raw_all = pd.read_csv('high_diamond_ranked_10min.csv', header=0)\n",
    "# Make a copy of df_raw_all\n",
    "df_all = df_raw_all.copy(deep=True)"
   ]
  },
  {
   "cell_type": "code",
   "execution_count": 6,
   "metadata": {
    "colab": {},
    "colab_type": "code",
    "id": "CvbeQ0t5xH1F"
   },
   "outputs": [
    {
     "data": {
      "text/html": [
       "<div>\n",
       "<style scoped>\n",
       "    .dataframe tbody tr th:only-of-type {\n",
       "        vertical-align: middle;\n",
       "    }\n",
       "\n",
       "    .dataframe tbody tr th {\n",
       "        vertical-align: top;\n",
       "    }\n",
       "\n",
       "    .dataframe thead th {\n",
       "        text-align: right;\n",
       "    }\n",
       "</style>\n",
       "<table border=\"1\" class=\"dataframe\">\n",
       "  <thead>\n",
       "    <tr style=\"text-align: right;\">\n",
       "      <th></th>\n",
       "      <th># rows</th>\n",
       "      <th># columns</th>\n",
       "    </tr>\n",
       "  </thead>\n",
       "  <tbody>\n",
       "    <tr>\n",
       "      <th>0</th>\n",
       "      <td>9879</td>\n",
       "      <td>40</td>\n",
       "    </tr>\n",
       "  </tbody>\n",
       "</table>\n",
       "</div>"
      ],
      "text/plain": [
       "   # rows  # columns\n",
       "0    9879         40"
      ]
     },
     "execution_count": 6,
     "metadata": {},
     "output_type": "execute_result"
    }
   ],
   "source": [
    "# Print the dimension of df_train\n",
    "pd.DataFrame([[df_all.shape[0], df_all.shape[1]]], columns=['# rows', '# columns'])"
   ]
  },
  {
   "cell_type": "code",
   "execution_count": 7,
   "metadata": {
    "colab": {},
    "colab_type": "code",
    "id": "niUKfmLLxKl3"
   },
   "outputs": [
    {
     "data": {
      "text/plain": [
       "Index(['gameId', 'blueWins', 'blueWardsPlaced', 'blueWardsDestroyed',\n",
       "       'blueFirstBlood', 'blueKills', 'blueDeaths', 'blueAssists',\n",
       "       'blueEliteMonsters', 'blueDragons', 'blueHeralds',\n",
       "       'blueTowersDestroyed', 'blueTotalGold', 'blueAvgLevel',\n",
       "       'blueTotalExperience', 'blueTotalMinionsKilled',\n",
       "       'blueTotalJungleMinionsKilled', 'blueGoldDiff', 'blueExperienceDiff',\n",
       "       'blueCSPerMin', 'blueGoldPerMin', 'redWardsPlaced', 'redWardsDestroyed',\n",
       "       'redFirstBlood', 'redKills', 'redDeaths', 'redAssists',\n",
       "       'redEliteMonsters', 'redDragons', 'redHeralds', 'redTowersDestroyed',\n",
       "       'redTotalGold', 'redAvgLevel', 'redTotalExperience',\n",
       "       'redTotalMinionsKilled', 'redTotalJungleMinionsKilled', 'redGoldDiff',\n",
       "       'redExperienceDiff', 'redCSPerMin', 'redGoldPerMin'],\n",
       "      dtype='object')"
      ]
     },
     "execution_count": 7,
     "metadata": {},
     "output_type": "execute_result"
    }
   ],
   "source": [
    "# Print the first 5 rows of df_train\n",
    "df_all.columns"
   ]
  },
  {
   "cell_type": "code",
   "execution_count": 8,
   "metadata": {
    "colab": {},
    "colab_type": "code",
    "id": "DSagmLJkxPwx"
   },
   "outputs": [
    {
     "data": {
      "text/plain": [
       "<Figure size 2880x2880 with 0 Axes>"
      ]
     },
     "metadata": {},
     "output_type": "display_data"
    }
   ],
   "source": [
    "plt.figure(figsize=(40,40)) \n",
    "\n",
    "def find_relation(df, cor = 1):\n",
    "    li = set()\n",
    "    column_li = df.columns\n",
    "    corr = df.corr()\n",
    "    for i in column_li:\n",
    "        for j in column_li:\n",
    "            if i != j and abs(corr[i][j]) == cor:\n",
    "                #print('{i}-{j}-{cor}'.format(i=i, j=j, cor=corr[i][j]))\n",
    "                temp = frozenset([i,j,corr[i][j]])\n",
    "                li.add(temp)\n",
    "    return li"
   ]
  },
  {
   "cell_type": "code",
   "execution_count": 9,
   "metadata": {
    "colab": {},
    "colab_type": "code",
    "id": "AsadVNAyXVo-"
   },
   "outputs": [
    {
     "data": {
      "text/plain": [
       "{frozenset({-1.0, 'blueFirstBlood', 'redFirstBlood'}),\n",
       " frozenset({-1.0, 'blueExperienceDiff', 'redExperienceDiff'}),\n",
       " frozenset({1.0, 'blueDeaths', 'redKills'}),\n",
       " frozenset({1.0, 'blueKills', 'redDeaths'}),\n",
       " frozenset({-1.0, 'blueGoldDiff', 'redGoldDiff'})}"
      ]
     },
     "execution_count": 9,
     "metadata": {},
     "output_type": "execute_result"
    }
   ],
   "source": [
    "set(find_relation(df_all))"
   ]
  },
  {
   "cell_type": "code",
   "execution_count": 10,
   "metadata": {
    "colab": {},
    "colab_type": "code",
    "id": "VVTIWkllXVpA"
   },
   "outputs": [],
   "source": [
    "df_all = df_all.drop(columns=['redGoldDiff', 'redKills', 'redFirstBlood', 'redDeaths', 'redExperienceDiff'])"
   ]
  },
  {
   "cell_type": "markdown",
   "metadata": {
    "colab_type": "text",
    "id": "JM8_plJeQb6D"
   },
   "source": [
    "## Dividing the training data into training and validation"
   ]
  },
  {
   "cell_type": "code",
   "execution_count": 11,
   "metadata": {
    "colab": {},
    "colab_type": "code",
    "id": "Wwn01DxdXVpC"
   },
   "outputs": [],
   "source": [
    "# Divide the all data into training (50%) and testing (50%)\n",
    "df_train, df_test = train_test_split(df_all, train_size=0.7, random_state=42)\n",
    "\n",
    "# Divide the training data into training (80%) and validation (20%)\n",
    "df_train, df_valid = train_test_split(df_train, train_size=0.8, random_state=42)\n",
    "\n",
    "# Reset the index\n",
    "df_train, df_test, df_valid = df_train.reset_index(drop=True), df_test.reset_index(drop=True), df_valid.reset_index(drop=True)\n"
   ]
  },
  {
   "cell_type": "code",
   "execution_count": 12,
   "metadata": {
    "colab": {},
    "colab_type": "code",
    "id": "vNdxQgV1XVpE"
   },
   "outputs": [
    {
     "data": {
      "text/html": [
       "<div>\n",
       "<style scoped>\n",
       "    .dataframe tbody tr th:only-of-type {\n",
       "        vertical-align: middle;\n",
       "    }\n",
       "\n",
       "    .dataframe tbody tr th {\n",
       "        vertical-align: top;\n",
       "    }\n",
       "\n",
       "    .dataframe thead th {\n",
       "        text-align: right;\n",
       "    }\n",
       "</style>\n",
       "<table border=\"1\" class=\"dataframe\">\n",
       "  <thead>\n",
       "    <tr style=\"text-align: right;\">\n",
       "      <th></th>\n",
       "      <th># rows</th>\n",
       "      <th># columns</th>\n",
       "    </tr>\n",
       "  </thead>\n",
       "  <tbody>\n",
       "    <tr>\n",
       "      <th>0</th>\n",
       "      <td>5532</td>\n",
       "      <td>35</td>\n",
       "    </tr>\n",
       "  </tbody>\n",
       "</table>\n",
       "</div>"
      ],
      "text/plain": [
       "   # rows  # columns\n",
       "0    5532         35"
      ]
     },
     "execution_count": 12,
     "metadata": {},
     "output_type": "execute_result"
    }
   ],
   "source": [
    "# Print the dimension of df_train\n",
    "pd.DataFrame([[df_train.shape[0], df_train.shape[1]]], columns=['# rows', '# columns'])"
   ]
  },
  {
   "cell_type": "code",
   "execution_count": 13,
   "metadata": {
    "colab": {},
    "colab_type": "code",
    "id": "ncv32XHOXVpF"
   },
   "outputs": [
    {
     "data": {
      "text/html": [
       "<div>\n",
       "<style scoped>\n",
       "    .dataframe tbody tr th:only-of-type {\n",
       "        vertical-align: middle;\n",
       "    }\n",
       "\n",
       "    .dataframe tbody tr th {\n",
       "        vertical-align: top;\n",
       "    }\n",
       "\n",
       "    .dataframe thead th {\n",
       "        text-align: right;\n",
       "    }\n",
       "</style>\n",
       "<table border=\"1\" class=\"dataframe\">\n",
       "  <thead>\n",
       "    <tr style=\"text-align: right;\">\n",
       "      <th></th>\n",
       "      <th># rows</th>\n",
       "      <th># columns</th>\n",
       "    </tr>\n",
       "  </thead>\n",
       "  <tbody>\n",
       "    <tr>\n",
       "      <th>0</th>\n",
       "      <td>1383</td>\n",
       "      <td>35</td>\n",
       "    </tr>\n",
       "  </tbody>\n",
       "</table>\n",
       "</div>"
      ],
      "text/plain": [
       "   # rows  # columns\n",
       "0    1383         35"
      ]
     },
     "execution_count": 13,
     "metadata": {},
     "output_type": "execute_result"
    }
   ],
   "source": [
    "# Print the dimension of df_valid\n",
    "pd.DataFrame([[df_valid.shape[0], df_valid.shape[1]]], columns=['# rows', '# columns'])"
   ]
  },
  {
   "cell_type": "code",
   "execution_count": 14,
   "metadata": {
    "colab": {},
    "colab_type": "code",
    "id": "JUn-mWKeXVpH"
   },
   "outputs": [
    {
     "data": {
      "text/html": [
       "<div>\n",
       "<style scoped>\n",
       "    .dataframe tbody tr th:only-of-type {\n",
       "        vertical-align: middle;\n",
       "    }\n",
       "\n",
       "    .dataframe tbody tr th {\n",
       "        vertical-align: top;\n",
       "    }\n",
       "\n",
       "    .dataframe thead th {\n",
       "        text-align: right;\n",
       "    }\n",
       "</style>\n",
       "<table border=\"1\" class=\"dataframe\">\n",
       "  <thead>\n",
       "    <tr style=\"text-align: right;\">\n",
       "      <th></th>\n",
       "      <th># rows</th>\n",
       "      <th># columns</th>\n",
       "    </tr>\n",
       "  </thead>\n",
       "  <tbody>\n",
       "    <tr>\n",
       "      <th>0</th>\n",
       "      <td>2964</td>\n",
       "      <td>35</td>\n",
       "    </tr>\n",
       "  </tbody>\n",
       "</table>\n",
       "</div>"
      ],
      "text/plain": [
       "   # rows  # columns\n",
       "0    2964         35"
      ]
     },
     "execution_count": 14,
     "metadata": {},
     "output_type": "execute_result"
    }
   ],
   "source": [
    "# Print the dimension of df_test\n",
    "#df_test = df_test.drop(columns=['blueWins'])\n",
    "pd.DataFrame([[df_test.shape[0], df_test.shape[1]]], columns=['# rows', '# columns'])"
   ]
  },
  {
   "cell_type": "markdown",
   "metadata": {
    "colab_type": "text",
    "id": "HRZB2nLmQb6B"
   },
   "source": [
    "## Getting the name of the target"
   ]
  },
  {
   "cell_type": "code",
   "execution_count": 15,
   "metadata": {
    "colab": {},
    "colab_type": "code",
    "id": "mO7wcqbr41gG"
   },
   "outputs": [],
   "source": [
    "# Implement me\n",
    "target = 'blueWins'"
   ]
  },
  {
   "cell_type": "markdown",
   "metadata": {
    "colab_type": "text",
    "id": "OqsjRIojQb6H"
   },
   "source": [
    "## Handling the identifiers"
   ]
  },
  {
   "cell_type": "code",
   "execution_count": 16,
   "metadata": {
    "colab": {},
    "colab_type": "code",
    "id": "MDsuzJVI47yU"
   },
   "outputs": [],
   "source": [
    "# Implement me\n",
    "# Combine df_train, df_valid and df_test\n",
    "df = pd.concat([df_train, df_valid, df_test], sort=False)\n"
   ]
  },
  {
   "cell_type": "code",
   "execution_count": 17,
   "metadata": {
    "colab": {},
    "colab_type": "code",
    "id": "t0ASfUF_2ZUy"
   },
   "outputs": [],
   "source": [
    "def id_checker(df):\n",
    "    \"\"\"\n",
    "    The identifier checker\n",
    "\n",
    "    Parameters\n",
    "    ----------\n",
    "    df : dataframe\n",
    "    \n",
    "    Returns\n",
    "    ----------\n",
    "    The dataframe of identifiers\n",
    "    \"\"\"\n",
    "    \n",
    "    # Get the identifiers\n",
    "    df_id = df[[var for var in df.columns \n",
    "                if df[var].nunique(dropna=True) == df[var].notnull().sum()]]\n",
    "    \n",
    "    return df_id"
   ]
  },
  {
   "cell_type": "code",
   "execution_count": 18,
   "metadata": {
    "colab": {},
    "colab_type": "code",
    "id": "aIcYwgF62cgU"
   },
   "outputs": [
    {
     "data": {
      "text/html": [
       "<div>\n",
       "<style scoped>\n",
       "    .dataframe tbody tr th:only-of-type {\n",
       "        vertical-align: middle;\n",
       "    }\n",
       "\n",
       "    .dataframe tbody tr th {\n",
       "        vertical-align: top;\n",
       "    }\n",
       "\n",
       "    .dataframe thead th {\n",
       "        text-align: right;\n",
       "    }\n",
       "</style>\n",
       "<table border=\"1\" class=\"dataframe\">\n",
       "  <thead>\n",
       "    <tr style=\"text-align: right;\">\n",
       "      <th></th>\n",
       "      <th>gameId</th>\n",
       "    </tr>\n",
       "  </thead>\n",
       "  <tbody>\n",
       "    <tr>\n",
       "      <th>0</th>\n",
       "      <td>4509390548</td>\n",
       "    </tr>\n",
       "    <tr>\n",
       "      <th>1</th>\n",
       "      <td>4482519172</td>\n",
       "    </tr>\n",
       "    <tr>\n",
       "      <th>2</th>\n",
       "      <td>4521060051</td>\n",
       "    </tr>\n",
       "    <tr>\n",
       "      <th>3</th>\n",
       "      <td>4522058891</td>\n",
       "    </tr>\n",
       "    <tr>\n",
       "      <th>4</th>\n",
       "      <td>4511383179</td>\n",
       "    </tr>\n",
       "  </tbody>\n",
       "</table>\n",
       "</div>"
      ],
      "text/plain": [
       "       gameId\n",
       "0  4509390548\n",
       "1  4482519172\n",
       "2  4521060051\n",
       "3  4522058891\n",
       "4  4511383179"
      ]
     },
     "execution_count": 18,
     "metadata": {},
     "output_type": "execute_result"
    }
   ],
   "source": [
    "# Call id_checker on df\n",
    "df_id = id_checker(df)\n",
    "\n",
    "# Print the first 5 rows of df_id\n",
    "df_id.head()"
   ]
  },
  {
   "cell_type": "code",
   "execution_count": 19,
   "metadata": {
    "colab": {},
    "colab_type": "code",
    "id": "M5csRfpgXVpO"
   },
   "outputs": [],
   "source": [
    "identifier = df_id.columns[0]"
   ]
  },
  {
   "cell_type": "code",
   "execution_count": 20,
   "metadata": {
    "colab": {},
    "colab_type": "code",
    "id": "N23ei94A3Wjj"
   },
   "outputs": [],
   "source": [
    "import numpy as np\n",
    "\n",
    "# Remove the identifiers from df_train\n",
    "df_train = df_train.drop(columns=np.intersect1d(identifier, df_train.columns))\n",
    "\n",
    "# Remove the identifiers from df_valid\n",
    "df_valid = df_valid.drop(columns=np.intersect1d(identifier, df_valid.columns))\n",
    "\n",
    "# Remove the identifiers from df_test\n",
    "df_test = df_test.drop(columns=np.intersect1d(identifier, df_test.columns))"
   ]
  },
  {
   "cell_type": "code",
   "execution_count": 21,
   "metadata": {
    "colab": {},
    "colab_type": "code",
    "id": "4YkkJC3O3gVs"
   },
   "outputs": [
    {
     "data": {
      "text/html": [
       "<div>\n",
       "<style scoped>\n",
       "    .dataframe tbody tr th:only-of-type {\n",
       "        vertical-align: middle;\n",
       "    }\n",
       "\n",
       "    .dataframe tbody tr th {\n",
       "        vertical-align: top;\n",
       "    }\n",
       "\n",
       "    .dataframe thead th {\n",
       "        text-align: right;\n",
       "    }\n",
       "</style>\n",
       "<table border=\"1\" class=\"dataframe\">\n",
       "  <thead>\n",
       "    <tr style=\"text-align: right;\">\n",
       "      <th></th>\n",
       "      <th>blueWins</th>\n",
       "      <th>blueWardsPlaced</th>\n",
       "      <th>blueWardsDestroyed</th>\n",
       "      <th>blueFirstBlood</th>\n",
       "      <th>blueKills</th>\n",
       "      <th>blueDeaths</th>\n",
       "      <th>blueAssists</th>\n",
       "      <th>blueEliteMonsters</th>\n",
       "      <th>blueDragons</th>\n",
       "      <th>blueHeralds</th>\n",
       "      <th>...</th>\n",
       "      <th>redDragons</th>\n",
       "      <th>redHeralds</th>\n",
       "      <th>redTowersDestroyed</th>\n",
       "      <th>redTotalGold</th>\n",
       "      <th>redAvgLevel</th>\n",
       "      <th>redTotalExperience</th>\n",
       "      <th>redTotalMinionsKilled</th>\n",
       "      <th>redTotalJungleMinionsKilled</th>\n",
       "      <th>redCSPerMin</th>\n",
       "      <th>redGoldPerMin</th>\n",
       "    </tr>\n",
       "  </thead>\n",
       "  <tbody>\n",
       "    <tr>\n",
       "      <th>0</th>\n",
       "      <td>0</td>\n",
       "      <td>16</td>\n",
       "      <td>0</td>\n",
       "      <td>1</td>\n",
       "      <td>6</td>\n",
       "      <td>9</td>\n",
       "      <td>9</td>\n",
       "      <td>0</td>\n",
       "      <td>0</td>\n",
       "      <td>0</td>\n",
       "      <td>...</td>\n",
       "      <td>0</td>\n",
       "      <td>0</td>\n",
       "      <td>0</td>\n",
       "      <td>18429</td>\n",
       "      <td>7.2</td>\n",
       "      <td>19458</td>\n",
       "      <td>208</td>\n",
       "      <td>56</td>\n",
       "      <td>20.8</td>\n",
       "      <td>1842.9</td>\n",
       "    </tr>\n",
       "    <tr>\n",
       "      <th>1</th>\n",
       "      <td>1</td>\n",
       "      <td>52</td>\n",
       "      <td>4</td>\n",
       "      <td>0</td>\n",
       "      <td>10</td>\n",
       "      <td>4</td>\n",
       "      <td>15</td>\n",
       "      <td>1</td>\n",
       "      <td>1</td>\n",
       "      <td>0</td>\n",
       "      <td>...</td>\n",
       "      <td>0</td>\n",
       "      <td>0</td>\n",
       "      <td>0</td>\n",
       "      <td>15594</td>\n",
       "      <td>7.0</td>\n",
       "      <td>17014</td>\n",
       "      <td>215</td>\n",
       "      <td>55</td>\n",
       "      <td>21.5</td>\n",
       "      <td>1559.4</td>\n",
       "    </tr>\n",
       "    <tr>\n",
       "      <th>2</th>\n",
       "      <td>0</td>\n",
       "      <td>38</td>\n",
       "      <td>1</td>\n",
       "      <td>0</td>\n",
       "      <td>7</td>\n",
       "      <td>8</td>\n",
       "      <td>9</td>\n",
       "      <td>1</td>\n",
       "      <td>0</td>\n",
       "      <td>1</td>\n",
       "      <td>...</td>\n",
       "      <td>1</td>\n",
       "      <td>0</td>\n",
       "      <td>0</td>\n",
       "      <td>17012</td>\n",
       "      <td>6.8</td>\n",
       "      <td>17174</td>\n",
       "      <td>225</td>\n",
       "      <td>43</td>\n",
       "      <td>22.5</td>\n",
       "      <td>1701.2</td>\n",
       "    </tr>\n",
       "    <tr>\n",
       "      <th>3</th>\n",
       "      <td>1</td>\n",
       "      <td>11</td>\n",
       "      <td>1</td>\n",
       "      <td>0</td>\n",
       "      <td>5</td>\n",
       "      <td>6</td>\n",
       "      <td>7</td>\n",
       "      <td>0</td>\n",
       "      <td>0</td>\n",
       "      <td>0</td>\n",
       "      <td>...</td>\n",
       "      <td>0</td>\n",
       "      <td>0</td>\n",
       "      <td>0</td>\n",
       "      <td>17746</td>\n",
       "      <td>7.2</td>\n",
       "      <td>19120</td>\n",
       "      <td>243</td>\n",
       "      <td>54</td>\n",
       "      <td>24.3</td>\n",
       "      <td>1774.6</td>\n",
       "    </tr>\n",
       "    <tr>\n",
       "      <th>4</th>\n",
       "      <td>1</td>\n",
       "      <td>14</td>\n",
       "      <td>4</td>\n",
       "      <td>1</td>\n",
       "      <td>5</td>\n",
       "      <td>2</td>\n",
       "      <td>5</td>\n",
       "      <td>2</td>\n",
       "      <td>1</td>\n",
       "      <td>1</td>\n",
       "      <td>...</td>\n",
       "      <td>0</td>\n",
       "      <td>0</td>\n",
       "      <td>0</td>\n",
       "      <td>14268</td>\n",
       "      <td>6.6</td>\n",
       "      <td>16995</td>\n",
       "      <td>221</td>\n",
       "      <td>45</td>\n",
       "      <td>22.1</td>\n",
       "      <td>1426.8</td>\n",
       "    </tr>\n",
       "  </tbody>\n",
       "</table>\n",
       "<p>5 rows × 34 columns</p>\n",
       "</div>"
      ],
      "text/plain": [
       "   blueWins  blueWardsPlaced  blueWardsDestroyed  blueFirstBlood  blueKills  \\\n",
       "0         0               16                   0               1          6   \n",
       "1         1               52                   4               0         10   \n",
       "2         0               38                   1               0          7   \n",
       "3         1               11                   1               0          5   \n",
       "4         1               14                   4               1          5   \n",
       "\n",
       "   blueDeaths  blueAssists  blueEliteMonsters  blueDragons  blueHeralds  ...  \\\n",
       "0           9            9                  0            0            0  ...   \n",
       "1           4           15                  1            1            0  ...   \n",
       "2           8            9                  1            0            1  ...   \n",
       "3           6            7                  0            0            0  ...   \n",
       "4           2            5                  2            1            1  ...   \n",
       "\n",
       "   redDragons  redHeralds  redTowersDestroyed  redTotalGold  redAvgLevel  \\\n",
       "0           0           0                   0         18429          7.2   \n",
       "1           0           0                   0         15594          7.0   \n",
       "2           1           0                   0         17012          6.8   \n",
       "3           0           0                   0         17746          7.2   \n",
       "4           0           0                   0         14268          6.6   \n",
       "\n",
       "   redTotalExperience  redTotalMinionsKilled  redTotalJungleMinionsKilled  \\\n",
       "0               19458                    208                           56   \n",
       "1               17014                    215                           55   \n",
       "2               17174                    225                           43   \n",
       "3               19120                    243                           54   \n",
       "4               16995                    221                           45   \n",
       "\n",
       "   redCSPerMin  redGoldPerMin  \n",
       "0         20.8         1842.9  \n",
       "1         21.5         1559.4  \n",
       "2         22.5         1701.2  \n",
       "3         24.3         1774.6  \n",
       "4         22.1         1426.8  \n",
       "\n",
       "[5 rows x 34 columns]"
      ]
     },
     "execution_count": 21,
     "metadata": {},
     "output_type": "execute_result"
    }
   ],
   "source": [
    "# Print the first 5 rows of df_train\n",
    "df_train.head()"
   ]
  },
  {
   "cell_type": "code",
   "execution_count": 22,
   "metadata": {
    "colab": {},
    "colab_type": "code",
    "id": "47Czdh5Q3gbQ"
   },
   "outputs": [
    {
     "data": {
      "text/html": [
       "<div>\n",
       "<style scoped>\n",
       "    .dataframe tbody tr th:only-of-type {\n",
       "        vertical-align: middle;\n",
       "    }\n",
       "\n",
       "    .dataframe tbody tr th {\n",
       "        vertical-align: top;\n",
       "    }\n",
       "\n",
       "    .dataframe thead th {\n",
       "        text-align: right;\n",
       "    }\n",
       "</style>\n",
       "<table border=\"1\" class=\"dataframe\">\n",
       "  <thead>\n",
       "    <tr style=\"text-align: right;\">\n",
       "      <th></th>\n",
       "      <th>blueWins</th>\n",
       "      <th>blueWardsPlaced</th>\n",
       "      <th>blueWardsDestroyed</th>\n",
       "      <th>blueFirstBlood</th>\n",
       "      <th>blueKills</th>\n",
       "      <th>blueDeaths</th>\n",
       "      <th>blueAssists</th>\n",
       "      <th>blueEliteMonsters</th>\n",
       "      <th>blueDragons</th>\n",
       "      <th>blueHeralds</th>\n",
       "      <th>...</th>\n",
       "      <th>redDragons</th>\n",
       "      <th>redHeralds</th>\n",
       "      <th>redTowersDestroyed</th>\n",
       "      <th>redTotalGold</th>\n",
       "      <th>redAvgLevel</th>\n",
       "      <th>redTotalExperience</th>\n",
       "      <th>redTotalMinionsKilled</th>\n",
       "      <th>redTotalJungleMinionsKilled</th>\n",
       "      <th>redCSPerMin</th>\n",
       "      <th>redGoldPerMin</th>\n",
       "    </tr>\n",
       "  </thead>\n",
       "  <tbody>\n",
       "    <tr>\n",
       "      <th>0</th>\n",
       "      <td>0</td>\n",
       "      <td>19</td>\n",
       "      <td>0</td>\n",
       "      <td>0</td>\n",
       "      <td>8</td>\n",
       "      <td>8</td>\n",
       "      <td>4</td>\n",
       "      <td>1</td>\n",
       "      <td>1</td>\n",
       "      <td>0</td>\n",
       "      <td>...</td>\n",
       "      <td>0</td>\n",
       "      <td>1</td>\n",
       "      <td>0</td>\n",
       "      <td>17095</td>\n",
       "      <td>7.2</td>\n",
       "      <td>18056</td>\n",
       "      <td>232</td>\n",
       "      <td>39</td>\n",
       "      <td>23.2</td>\n",
       "      <td>1709.5</td>\n",
       "    </tr>\n",
       "    <tr>\n",
       "      <th>1</th>\n",
       "      <td>1</td>\n",
       "      <td>39</td>\n",
       "      <td>1</td>\n",
       "      <td>0</td>\n",
       "      <td>7</td>\n",
       "      <td>6</td>\n",
       "      <td>6</td>\n",
       "      <td>0</td>\n",
       "      <td>0</td>\n",
       "      <td>0</td>\n",
       "      <td>...</td>\n",
       "      <td>1</td>\n",
       "      <td>0</td>\n",
       "      <td>0</td>\n",
       "      <td>16041</td>\n",
       "      <td>7.2</td>\n",
       "      <td>19296</td>\n",
       "      <td>214</td>\n",
       "      <td>44</td>\n",
       "      <td>21.4</td>\n",
       "      <td>1604.1</td>\n",
       "    </tr>\n",
       "    <tr>\n",
       "      <th>2</th>\n",
       "      <td>0</td>\n",
       "      <td>18</td>\n",
       "      <td>3</td>\n",
       "      <td>0</td>\n",
       "      <td>3</td>\n",
       "      <td>7</td>\n",
       "      <td>3</td>\n",
       "      <td>0</td>\n",
       "      <td>0</td>\n",
       "      <td>0</td>\n",
       "      <td>...</td>\n",
       "      <td>1</td>\n",
       "      <td>1</td>\n",
       "      <td>0</td>\n",
       "      <td>17570</td>\n",
       "      <td>7.2</td>\n",
       "      <td>19233</td>\n",
       "      <td>240</td>\n",
       "      <td>65</td>\n",
       "      <td>24.0</td>\n",
       "      <td>1757.0</td>\n",
       "    </tr>\n",
       "    <tr>\n",
       "      <th>3</th>\n",
       "      <td>1</td>\n",
       "      <td>14</td>\n",
       "      <td>0</td>\n",
       "      <td>1</td>\n",
       "      <td>5</td>\n",
       "      <td>7</td>\n",
       "      <td>5</td>\n",
       "      <td>1</td>\n",
       "      <td>0</td>\n",
       "      <td>1</td>\n",
       "      <td>...</td>\n",
       "      <td>1</td>\n",
       "      <td>0</td>\n",
       "      <td>0</td>\n",
       "      <td>17632</td>\n",
       "      <td>7.2</td>\n",
       "      <td>18883</td>\n",
       "      <td>231</td>\n",
       "      <td>68</td>\n",
       "      <td>23.1</td>\n",
       "      <td>1763.2</td>\n",
       "    </tr>\n",
       "    <tr>\n",
       "      <th>4</th>\n",
       "      <td>0</td>\n",
       "      <td>9</td>\n",
       "      <td>1</td>\n",
       "      <td>0</td>\n",
       "      <td>0</td>\n",
       "      <td>9</td>\n",
       "      <td>0</td>\n",
       "      <td>0</td>\n",
       "      <td>0</td>\n",
       "      <td>0</td>\n",
       "      <td>...</td>\n",
       "      <td>1</td>\n",
       "      <td>1</td>\n",
       "      <td>0</td>\n",
       "      <td>17705</td>\n",
       "      <td>7.4</td>\n",
       "      <td>20260</td>\n",
       "      <td>253</td>\n",
       "      <td>52</td>\n",
       "      <td>25.3</td>\n",
       "      <td>1770.5</td>\n",
       "    </tr>\n",
       "  </tbody>\n",
       "</table>\n",
       "<p>5 rows × 34 columns</p>\n",
       "</div>"
      ],
      "text/plain": [
       "   blueWins  blueWardsPlaced  blueWardsDestroyed  blueFirstBlood  blueKills  \\\n",
       "0         0               19                   0               0          8   \n",
       "1         1               39                   1               0          7   \n",
       "2         0               18                   3               0          3   \n",
       "3         1               14                   0               1          5   \n",
       "4         0                9                   1               0          0   \n",
       "\n",
       "   blueDeaths  blueAssists  blueEliteMonsters  blueDragons  blueHeralds  ...  \\\n",
       "0           8            4                  1            1            0  ...   \n",
       "1           6            6                  0            0            0  ...   \n",
       "2           7            3                  0            0            0  ...   \n",
       "3           7            5                  1            0            1  ...   \n",
       "4           9            0                  0            0            0  ...   \n",
       "\n",
       "   redDragons  redHeralds  redTowersDestroyed  redTotalGold  redAvgLevel  \\\n",
       "0           0           1                   0         17095          7.2   \n",
       "1           1           0                   0         16041          7.2   \n",
       "2           1           1                   0         17570          7.2   \n",
       "3           1           0                   0         17632          7.2   \n",
       "4           1           1                   0         17705          7.4   \n",
       "\n",
       "   redTotalExperience  redTotalMinionsKilled  redTotalJungleMinionsKilled  \\\n",
       "0               18056                    232                           39   \n",
       "1               19296                    214                           44   \n",
       "2               19233                    240                           65   \n",
       "3               18883                    231                           68   \n",
       "4               20260                    253                           52   \n",
       "\n",
       "   redCSPerMin  redGoldPerMin  \n",
       "0         23.2         1709.5  \n",
       "1         21.4         1604.1  \n",
       "2         24.0         1757.0  \n",
       "3         23.1         1763.2  \n",
       "4         25.3         1770.5  \n",
       "\n",
       "[5 rows x 34 columns]"
      ]
     },
     "execution_count": 22,
     "metadata": {},
     "output_type": "execute_result"
    }
   ],
   "source": [
    "# Print the first 5 rows of df_valid\n",
    "df_valid.head()"
   ]
  },
  {
   "cell_type": "code",
   "execution_count": 23,
   "metadata": {
    "colab": {},
    "colab_type": "code",
    "id": "6AcMGgoo3ghM"
   },
   "outputs": [
    {
     "data": {
      "text/html": [
       "<div>\n",
       "<style scoped>\n",
       "    .dataframe tbody tr th:only-of-type {\n",
       "        vertical-align: middle;\n",
       "    }\n",
       "\n",
       "    .dataframe tbody tr th {\n",
       "        vertical-align: top;\n",
       "    }\n",
       "\n",
       "    .dataframe thead th {\n",
       "        text-align: right;\n",
       "    }\n",
       "</style>\n",
       "<table border=\"1\" class=\"dataframe\">\n",
       "  <thead>\n",
       "    <tr style=\"text-align: right;\">\n",
       "      <th></th>\n",
       "      <th>blueWins</th>\n",
       "      <th>blueWardsPlaced</th>\n",
       "      <th>blueWardsDestroyed</th>\n",
       "      <th>blueFirstBlood</th>\n",
       "      <th>blueKills</th>\n",
       "      <th>blueDeaths</th>\n",
       "      <th>blueAssists</th>\n",
       "      <th>blueEliteMonsters</th>\n",
       "      <th>blueDragons</th>\n",
       "      <th>blueHeralds</th>\n",
       "      <th>...</th>\n",
       "      <th>redDragons</th>\n",
       "      <th>redHeralds</th>\n",
       "      <th>redTowersDestroyed</th>\n",
       "      <th>redTotalGold</th>\n",
       "      <th>redAvgLevel</th>\n",
       "      <th>redTotalExperience</th>\n",
       "      <th>redTotalMinionsKilled</th>\n",
       "      <th>redTotalJungleMinionsKilled</th>\n",
       "      <th>redCSPerMin</th>\n",
       "      <th>redGoldPerMin</th>\n",
       "    </tr>\n",
       "  </thead>\n",
       "  <tbody>\n",
       "    <tr>\n",
       "      <th>0</th>\n",
       "      <td>0</td>\n",
       "      <td>14</td>\n",
       "      <td>2</td>\n",
       "      <td>0</td>\n",
       "      <td>4</td>\n",
       "      <td>8</td>\n",
       "      <td>3</td>\n",
       "      <td>2</td>\n",
       "      <td>1</td>\n",
       "      <td>1</td>\n",
       "      <td>...</td>\n",
       "      <td>0</td>\n",
       "      <td>0</td>\n",
       "      <td>1</td>\n",
       "      <td>19675</td>\n",
       "      <td>7.4</td>\n",
       "      <td>19936</td>\n",
       "      <td>232</td>\n",
       "      <td>67</td>\n",
       "      <td>23.2</td>\n",
       "      <td>1967.5</td>\n",
       "    </tr>\n",
       "    <tr>\n",
       "      <th>1</th>\n",
       "      <td>1</td>\n",
       "      <td>15</td>\n",
       "      <td>1</td>\n",
       "      <td>1</td>\n",
       "      <td>10</td>\n",
       "      <td>5</td>\n",
       "      <td>10</td>\n",
       "      <td>0</td>\n",
       "      <td>0</td>\n",
       "      <td>0</td>\n",
       "      <td>...</td>\n",
       "      <td>0</td>\n",
       "      <td>0</td>\n",
       "      <td>0</td>\n",
       "      <td>15577</td>\n",
       "      <td>6.8</td>\n",
       "      <td>17645</td>\n",
       "      <td>203</td>\n",
       "      <td>44</td>\n",
       "      <td>20.3</td>\n",
       "      <td>1557.7</td>\n",
       "    </tr>\n",
       "    <tr>\n",
       "      <th>2</th>\n",
       "      <td>1</td>\n",
       "      <td>10</td>\n",
       "      <td>5</td>\n",
       "      <td>0</td>\n",
       "      <td>16</td>\n",
       "      <td>13</td>\n",
       "      <td>16</td>\n",
       "      <td>2</td>\n",
       "      <td>1</td>\n",
       "      <td>1</td>\n",
       "      <td>...</td>\n",
       "      <td>0</td>\n",
       "      <td>0</td>\n",
       "      <td>0</td>\n",
       "      <td>18891</td>\n",
       "      <td>7.0</td>\n",
       "      <td>17820</td>\n",
       "      <td>191</td>\n",
       "      <td>52</td>\n",
       "      <td>19.1</td>\n",
       "      <td>1889.1</td>\n",
       "    </tr>\n",
       "    <tr>\n",
       "      <th>3</th>\n",
       "      <td>1</td>\n",
       "      <td>81</td>\n",
       "      <td>5</td>\n",
       "      <td>0</td>\n",
       "      <td>11</td>\n",
       "      <td>11</td>\n",
       "      <td>14</td>\n",
       "      <td>0</td>\n",
       "      <td>0</td>\n",
       "      <td>0</td>\n",
       "      <td>...</td>\n",
       "      <td>1</td>\n",
       "      <td>0</td>\n",
       "      <td>0</td>\n",
       "      <td>17472</td>\n",
       "      <td>7.0</td>\n",
       "      <td>17509</td>\n",
       "      <td>200</td>\n",
       "      <td>24</td>\n",
       "      <td>20.0</td>\n",
       "      <td>1747.2</td>\n",
       "    </tr>\n",
       "    <tr>\n",
       "      <th>4</th>\n",
       "      <td>0</td>\n",
       "      <td>18</td>\n",
       "      <td>2</td>\n",
       "      <td>0</td>\n",
       "      <td>8</td>\n",
       "      <td>13</td>\n",
       "      <td>5</td>\n",
       "      <td>0</td>\n",
       "      <td>0</td>\n",
       "      <td>0</td>\n",
       "      <td>...</td>\n",
       "      <td>0</td>\n",
       "      <td>0</td>\n",
       "      <td>0</td>\n",
       "      <td>19133</td>\n",
       "      <td>7.2</td>\n",
       "      <td>19174</td>\n",
       "      <td>223</td>\n",
       "      <td>38</td>\n",
       "      <td>22.3</td>\n",
       "      <td>1913.3</td>\n",
       "    </tr>\n",
       "  </tbody>\n",
       "</table>\n",
       "<p>5 rows × 34 columns</p>\n",
       "</div>"
      ],
      "text/plain": [
       "   blueWins  blueWardsPlaced  blueWardsDestroyed  blueFirstBlood  blueKills  \\\n",
       "0         0               14                   2               0          4   \n",
       "1         1               15                   1               1         10   \n",
       "2         1               10                   5               0         16   \n",
       "3         1               81                   5               0         11   \n",
       "4         0               18                   2               0          8   \n",
       "\n",
       "   blueDeaths  blueAssists  blueEliteMonsters  blueDragons  blueHeralds  ...  \\\n",
       "0           8            3                  2            1            1  ...   \n",
       "1           5           10                  0            0            0  ...   \n",
       "2          13           16                  2            1            1  ...   \n",
       "3          11           14                  0            0            0  ...   \n",
       "4          13            5                  0            0            0  ...   \n",
       "\n",
       "   redDragons  redHeralds  redTowersDestroyed  redTotalGold  redAvgLevel  \\\n",
       "0           0           0                   1         19675          7.4   \n",
       "1           0           0                   0         15577          6.8   \n",
       "2           0           0                   0         18891          7.0   \n",
       "3           1           0                   0         17472          7.0   \n",
       "4           0           0                   0         19133          7.2   \n",
       "\n",
       "   redTotalExperience  redTotalMinionsKilled  redTotalJungleMinionsKilled  \\\n",
       "0               19936                    232                           67   \n",
       "1               17645                    203                           44   \n",
       "2               17820                    191                           52   \n",
       "3               17509                    200                           24   \n",
       "4               19174                    223                           38   \n",
       "\n",
       "   redCSPerMin  redGoldPerMin  \n",
       "0         23.2         1967.5  \n",
       "1         20.3         1557.7  \n",
       "2         19.1         1889.1  \n",
       "3         20.0         1747.2  \n",
       "4         22.3         1913.3  \n",
       "\n",
       "[5 rows x 34 columns]"
      ]
     },
     "execution_count": 23,
     "metadata": {},
     "output_type": "execute_result"
    }
   ],
   "source": [
    "# Print the first 5 rows of df_test\n",
    "df_test.head()"
   ]
  },
  {
   "cell_type": "markdown",
   "metadata": {
    "colab_type": "text",
    "id": "oUFM0-OLmzRX"
   },
   "source": [
    "## Handling uncommon variables"
   ]
  },
  {
   "cell_type": "code",
   "execution_count": 24,
   "metadata": {
    "colab": {},
    "colab_type": "code",
    "id": "RMh6JppCm1DS"
   },
   "outputs": [],
   "source": [
    "# Implement me\n",
    "import numpy as np\n",
    "\n",
    "def common_var_checker(df_train, df_test, target):\n",
    "    \"\"\"\n",
    "    The common variables checker\n",
    "\n",
    "    Parameters\n",
    "    ----------\n",
    "    df_train : dataframe of training data\n",
    "    df_test : dataframe of testing data\n",
    "    target : the name of the target\n",
    "\n",
    "    Returns\n",
    "    ----------\n",
    "    The dataframe of common variables between the training and testing data\n",
    "    \"\"\"\n",
    "    \n",
    "    # Get the dataframe of common variables between the training and testing data\n",
    "    df_common_var = pd.DataFrame(np.intersect1d(df_train.columns, np.union1d(df_test.columns, [target])),\n",
    "                                 columns=['common var'])\n",
    "                \n",
    "    return df_common_var"
   ]
  },
  {
   "cell_type": "code",
   "execution_count": 25,
   "metadata": {
    "colab": {},
    "colab_type": "code",
    "id": "X18jKqN99HNd"
   },
   "outputs": [],
   "source": [
    "# Call common_var_checker\n",
    "df_common_var = common_var_checker(df_train, df_test, target)\n",
    "\n",
    "# Print df_common_var\n",
    "#df_common_var"
   ]
  },
  {
   "cell_type": "code",
   "execution_count": 26,
   "metadata": {
    "colab": {},
    "colab_type": "code",
    "id": "8RWAvgnONA0U"
   },
   "outputs": [
    {
     "data": {
      "text/html": [
       "<div>\n",
       "<style scoped>\n",
       "    .dataframe tbody tr th:only-of-type {\n",
       "        vertical-align: middle;\n",
       "    }\n",
       "\n",
       "    .dataframe tbody tr th {\n",
       "        vertical-align: top;\n",
       "    }\n",
       "\n",
       "    .dataframe thead th {\n",
       "        text-align: right;\n",
       "    }\n",
       "</style>\n",
       "<table border=\"1\" class=\"dataframe\">\n",
       "  <thead>\n",
       "    <tr style=\"text-align: right;\">\n",
       "      <th></th>\n",
       "      <th>uncommon var</th>\n",
       "    </tr>\n",
       "  </thead>\n",
       "  <tbody>\n",
       "  </tbody>\n",
       "</table>\n",
       "</div>"
      ],
      "text/plain": [
       "Empty DataFrame\n",
       "Columns: [uncommon var]\n",
       "Index: []"
      ]
     },
     "execution_count": 26,
     "metadata": {},
     "output_type": "execute_result"
    }
   ],
   "source": [
    "# Get the variables in the training data but not in the testing data\n",
    "uncommon_var_train_not_test = np.setdiff1d(df_train.columns, df_common_var['common var'])\n",
    "\n",
    "# Print the uncommon variables\n",
    "pd.DataFrame(uncommon_var_train_not_test, columns=['uncommon var'])"
   ]
  },
  {
   "cell_type": "code",
   "execution_count": 27,
   "metadata": {
    "colab": {},
    "colab_type": "code",
    "id": "6XKb5VISNZnE"
   },
   "outputs": [
    {
     "data": {
      "text/html": [
       "<div>\n",
       "<style scoped>\n",
       "    .dataframe tbody tr th:only-of-type {\n",
       "        vertical-align: middle;\n",
       "    }\n",
       "\n",
       "    .dataframe tbody tr th {\n",
       "        vertical-align: top;\n",
       "    }\n",
       "\n",
       "    .dataframe thead th {\n",
       "        text-align: right;\n",
       "    }\n",
       "</style>\n",
       "<table border=\"1\" class=\"dataframe\">\n",
       "  <thead>\n",
       "    <tr style=\"text-align: right;\">\n",
       "      <th></th>\n",
       "      <th>uncommon var</th>\n",
       "    </tr>\n",
       "  </thead>\n",
       "  <tbody>\n",
       "  </tbody>\n",
       "</table>\n",
       "</div>"
      ],
      "text/plain": [
       "Empty DataFrame\n",
       "Columns: [uncommon var]\n",
       "Index: []"
      ]
     },
     "execution_count": 27,
     "metadata": {},
     "output_type": "execute_result"
    }
   ],
   "source": [
    "# Get the variables in the testing data but not in the training data\n",
    "uncommon_var_test_not_train = np.setdiff1d(df_test.columns, df_common_var['common var'])\n",
    "\n",
    "# Print the uncommon variables\n",
    "pd.DataFrame(uncommon_var_test_not_train, columns=['uncommon var'])"
   ]
  },
  {
   "cell_type": "code",
   "execution_count": 28,
   "metadata": {
    "colab": {},
    "colab_type": "code",
    "id": "2VFCmDkONeNa"
   },
   "outputs": [
    {
     "data": {
      "text/html": [
       "<div>\n",
       "<style scoped>\n",
       "    .dataframe tbody tr th:only-of-type {\n",
       "        vertical-align: middle;\n",
       "    }\n",
       "\n",
       "    .dataframe tbody tr th {\n",
       "        vertical-align: top;\n",
       "    }\n",
       "\n",
       "    .dataframe thead th {\n",
       "        text-align: right;\n",
       "    }\n",
       "</style>\n",
       "<table border=\"1\" class=\"dataframe\">\n",
       "  <thead>\n",
       "    <tr style=\"text-align: right;\">\n",
       "      <th></th>\n",
       "      <th>blueWins</th>\n",
       "      <th>blueWardsPlaced</th>\n",
       "      <th>blueWardsDestroyed</th>\n",
       "      <th>blueFirstBlood</th>\n",
       "      <th>blueKills</th>\n",
       "      <th>blueDeaths</th>\n",
       "      <th>blueAssists</th>\n",
       "      <th>blueEliteMonsters</th>\n",
       "      <th>blueDragons</th>\n",
       "      <th>blueHeralds</th>\n",
       "      <th>...</th>\n",
       "      <th>redDragons</th>\n",
       "      <th>redHeralds</th>\n",
       "      <th>redTowersDestroyed</th>\n",
       "      <th>redTotalGold</th>\n",
       "      <th>redAvgLevel</th>\n",
       "      <th>redTotalExperience</th>\n",
       "      <th>redTotalMinionsKilled</th>\n",
       "      <th>redTotalJungleMinionsKilled</th>\n",
       "      <th>redCSPerMin</th>\n",
       "      <th>redGoldPerMin</th>\n",
       "    </tr>\n",
       "  </thead>\n",
       "  <tbody>\n",
       "    <tr>\n",
       "      <th>0</th>\n",
       "      <td>0</td>\n",
       "      <td>16</td>\n",
       "      <td>0</td>\n",
       "      <td>1</td>\n",
       "      <td>6</td>\n",
       "      <td>9</td>\n",
       "      <td>9</td>\n",
       "      <td>0</td>\n",
       "      <td>0</td>\n",
       "      <td>0</td>\n",
       "      <td>...</td>\n",
       "      <td>0</td>\n",
       "      <td>0</td>\n",
       "      <td>0</td>\n",
       "      <td>18429</td>\n",
       "      <td>7.2</td>\n",
       "      <td>19458</td>\n",
       "      <td>208</td>\n",
       "      <td>56</td>\n",
       "      <td>20.8</td>\n",
       "      <td>1842.9</td>\n",
       "    </tr>\n",
       "    <tr>\n",
       "      <th>1</th>\n",
       "      <td>1</td>\n",
       "      <td>52</td>\n",
       "      <td>4</td>\n",
       "      <td>0</td>\n",
       "      <td>10</td>\n",
       "      <td>4</td>\n",
       "      <td>15</td>\n",
       "      <td>1</td>\n",
       "      <td>1</td>\n",
       "      <td>0</td>\n",
       "      <td>...</td>\n",
       "      <td>0</td>\n",
       "      <td>0</td>\n",
       "      <td>0</td>\n",
       "      <td>15594</td>\n",
       "      <td>7.0</td>\n",
       "      <td>17014</td>\n",
       "      <td>215</td>\n",
       "      <td>55</td>\n",
       "      <td>21.5</td>\n",
       "      <td>1559.4</td>\n",
       "    </tr>\n",
       "    <tr>\n",
       "      <th>2</th>\n",
       "      <td>0</td>\n",
       "      <td>38</td>\n",
       "      <td>1</td>\n",
       "      <td>0</td>\n",
       "      <td>7</td>\n",
       "      <td>8</td>\n",
       "      <td>9</td>\n",
       "      <td>1</td>\n",
       "      <td>0</td>\n",
       "      <td>1</td>\n",
       "      <td>...</td>\n",
       "      <td>1</td>\n",
       "      <td>0</td>\n",
       "      <td>0</td>\n",
       "      <td>17012</td>\n",
       "      <td>6.8</td>\n",
       "      <td>17174</td>\n",
       "      <td>225</td>\n",
       "      <td>43</td>\n",
       "      <td>22.5</td>\n",
       "      <td>1701.2</td>\n",
       "    </tr>\n",
       "    <tr>\n",
       "      <th>3</th>\n",
       "      <td>1</td>\n",
       "      <td>11</td>\n",
       "      <td>1</td>\n",
       "      <td>0</td>\n",
       "      <td>5</td>\n",
       "      <td>6</td>\n",
       "      <td>7</td>\n",
       "      <td>0</td>\n",
       "      <td>0</td>\n",
       "      <td>0</td>\n",
       "      <td>...</td>\n",
       "      <td>0</td>\n",
       "      <td>0</td>\n",
       "      <td>0</td>\n",
       "      <td>17746</td>\n",
       "      <td>7.2</td>\n",
       "      <td>19120</td>\n",
       "      <td>243</td>\n",
       "      <td>54</td>\n",
       "      <td>24.3</td>\n",
       "      <td>1774.6</td>\n",
       "    </tr>\n",
       "    <tr>\n",
       "      <th>4</th>\n",
       "      <td>1</td>\n",
       "      <td>14</td>\n",
       "      <td>4</td>\n",
       "      <td>1</td>\n",
       "      <td>5</td>\n",
       "      <td>2</td>\n",
       "      <td>5</td>\n",
       "      <td>2</td>\n",
       "      <td>1</td>\n",
       "      <td>1</td>\n",
       "      <td>...</td>\n",
       "      <td>0</td>\n",
       "      <td>0</td>\n",
       "      <td>0</td>\n",
       "      <td>14268</td>\n",
       "      <td>6.6</td>\n",
       "      <td>16995</td>\n",
       "      <td>221</td>\n",
       "      <td>45</td>\n",
       "      <td>22.1</td>\n",
       "      <td>1426.8</td>\n",
       "    </tr>\n",
       "  </tbody>\n",
       "</table>\n",
       "<p>5 rows × 34 columns</p>\n",
       "</div>"
      ],
      "text/plain": [
       "   blueWins  blueWardsPlaced  blueWardsDestroyed  blueFirstBlood  blueKills  \\\n",
       "0         0               16                   0               1          6   \n",
       "1         1               52                   4               0         10   \n",
       "2         0               38                   1               0          7   \n",
       "3         1               11                   1               0          5   \n",
       "4         1               14                   4               1          5   \n",
       "\n",
       "   blueDeaths  blueAssists  blueEliteMonsters  blueDragons  blueHeralds  ...  \\\n",
       "0           9            9                  0            0            0  ...   \n",
       "1           4           15                  1            1            0  ...   \n",
       "2           8            9                  1            0            1  ...   \n",
       "3           6            7                  0            0            0  ...   \n",
       "4           2            5                  2            1            1  ...   \n",
       "\n",
       "   redDragons  redHeralds  redTowersDestroyed  redTotalGold  redAvgLevel  \\\n",
       "0           0           0                   0         18429          7.2   \n",
       "1           0           0                   0         15594          7.0   \n",
       "2           1           0                   0         17012          6.8   \n",
       "3           0           0                   0         17746          7.2   \n",
       "4           0           0                   0         14268          6.6   \n",
       "\n",
       "   redTotalExperience  redTotalMinionsKilled  redTotalJungleMinionsKilled  \\\n",
       "0               19458                    208                           56   \n",
       "1               17014                    215                           55   \n",
       "2               17174                    225                           43   \n",
       "3               19120                    243                           54   \n",
       "4               16995                    221                           45   \n",
       "\n",
       "   redCSPerMin  redGoldPerMin  \n",
       "0         20.8         1842.9  \n",
       "1         21.5         1559.4  \n",
       "2         22.5         1701.2  \n",
       "3         24.3         1774.6  \n",
       "4         22.1         1426.8  \n",
       "\n",
       "[5 rows x 34 columns]"
      ]
     },
     "execution_count": 28,
     "metadata": {},
     "output_type": "execute_result"
    }
   ],
   "source": [
    "# Remove the uncommon variables from the training data\n",
    "df_train = df_train.drop(columns=uncommon_var_train_not_test)\n",
    "\n",
    "# Print the first 5 rows of df_train\n",
    "df_train.head()"
   ]
  },
  {
   "cell_type": "code",
   "execution_count": 29,
   "metadata": {
    "colab": {},
    "colab_type": "code",
    "id": "8F4cMnUjNiuz"
   },
   "outputs": [
    {
     "data": {
      "text/html": [
       "<div>\n",
       "<style scoped>\n",
       "    .dataframe tbody tr th:only-of-type {\n",
       "        vertical-align: middle;\n",
       "    }\n",
       "\n",
       "    .dataframe tbody tr th {\n",
       "        vertical-align: top;\n",
       "    }\n",
       "\n",
       "    .dataframe thead th {\n",
       "        text-align: right;\n",
       "    }\n",
       "</style>\n",
       "<table border=\"1\" class=\"dataframe\">\n",
       "  <thead>\n",
       "    <tr style=\"text-align: right;\">\n",
       "      <th></th>\n",
       "      <th>blueWins</th>\n",
       "      <th>blueWardsPlaced</th>\n",
       "      <th>blueWardsDestroyed</th>\n",
       "      <th>blueFirstBlood</th>\n",
       "      <th>blueKills</th>\n",
       "      <th>blueDeaths</th>\n",
       "      <th>blueAssists</th>\n",
       "      <th>blueEliteMonsters</th>\n",
       "      <th>blueDragons</th>\n",
       "      <th>blueHeralds</th>\n",
       "      <th>...</th>\n",
       "      <th>redDragons</th>\n",
       "      <th>redHeralds</th>\n",
       "      <th>redTowersDestroyed</th>\n",
       "      <th>redTotalGold</th>\n",
       "      <th>redAvgLevel</th>\n",
       "      <th>redTotalExperience</th>\n",
       "      <th>redTotalMinionsKilled</th>\n",
       "      <th>redTotalJungleMinionsKilled</th>\n",
       "      <th>redCSPerMin</th>\n",
       "      <th>redGoldPerMin</th>\n",
       "    </tr>\n",
       "  </thead>\n",
       "  <tbody>\n",
       "    <tr>\n",
       "      <th>0</th>\n",
       "      <td>0</td>\n",
       "      <td>19</td>\n",
       "      <td>0</td>\n",
       "      <td>0</td>\n",
       "      <td>8</td>\n",
       "      <td>8</td>\n",
       "      <td>4</td>\n",
       "      <td>1</td>\n",
       "      <td>1</td>\n",
       "      <td>0</td>\n",
       "      <td>...</td>\n",
       "      <td>0</td>\n",
       "      <td>1</td>\n",
       "      <td>0</td>\n",
       "      <td>17095</td>\n",
       "      <td>7.2</td>\n",
       "      <td>18056</td>\n",
       "      <td>232</td>\n",
       "      <td>39</td>\n",
       "      <td>23.2</td>\n",
       "      <td>1709.5</td>\n",
       "    </tr>\n",
       "    <tr>\n",
       "      <th>1</th>\n",
       "      <td>1</td>\n",
       "      <td>39</td>\n",
       "      <td>1</td>\n",
       "      <td>0</td>\n",
       "      <td>7</td>\n",
       "      <td>6</td>\n",
       "      <td>6</td>\n",
       "      <td>0</td>\n",
       "      <td>0</td>\n",
       "      <td>0</td>\n",
       "      <td>...</td>\n",
       "      <td>1</td>\n",
       "      <td>0</td>\n",
       "      <td>0</td>\n",
       "      <td>16041</td>\n",
       "      <td>7.2</td>\n",
       "      <td>19296</td>\n",
       "      <td>214</td>\n",
       "      <td>44</td>\n",
       "      <td>21.4</td>\n",
       "      <td>1604.1</td>\n",
       "    </tr>\n",
       "    <tr>\n",
       "      <th>2</th>\n",
       "      <td>0</td>\n",
       "      <td>18</td>\n",
       "      <td>3</td>\n",
       "      <td>0</td>\n",
       "      <td>3</td>\n",
       "      <td>7</td>\n",
       "      <td>3</td>\n",
       "      <td>0</td>\n",
       "      <td>0</td>\n",
       "      <td>0</td>\n",
       "      <td>...</td>\n",
       "      <td>1</td>\n",
       "      <td>1</td>\n",
       "      <td>0</td>\n",
       "      <td>17570</td>\n",
       "      <td>7.2</td>\n",
       "      <td>19233</td>\n",
       "      <td>240</td>\n",
       "      <td>65</td>\n",
       "      <td>24.0</td>\n",
       "      <td>1757.0</td>\n",
       "    </tr>\n",
       "    <tr>\n",
       "      <th>3</th>\n",
       "      <td>1</td>\n",
       "      <td>14</td>\n",
       "      <td>0</td>\n",
       "      <td>1</td>\n",
       "      <td>5</td>\n",
       "      <td>7</td>\n",
       "      <td>5</td>\n",
       "      <td>1</td>\n",
       "      <td>0</td>\n",
       "      <td>1</td>\n",
       "      <td>...</td>\n",
       "      <td>1</td>\n",
       "      <td>0</td>\n",
       "      <td>0</td>\n",
       "      <td>17632</td>\n",
       "      <td>7.2</td>\n",
       "      <td>18883</td>\n",
       "      <td>231</td>\n",
       "      <td>68</td>\n",
       "      <td>23.1</td>\n",
       "      <td>1763.2</td>\n",
       "    </tr>\n",
       "    <tr>\n",
       "      <th>4</th>\n",
       "      <td>0</td>\n",
       "      <td>9</td>\n",
       "      <td>1</td>\n",
       "      <td>0</td>\n",
       "      <td>0</td>\n",
       "      <td>9</td>\n",
       "      <td>0</td>\n",
       "      <td>0</td>\n",
       "      <td>0</td>\n",
       "      <td>0</td>\n",
       "      <td>...</td>\n",
       "      <td>1</td>\n",
       "      <td>1</td>\n",
       "      <td>0</td>\n",
       "      <td>17705</td>\n",
       "      <td>7.4</td>\n",
       "      <td>20260</td>\n",
       "      <td>253</td>\n",
       "      <td>52</td>\n",
       "      <td>25.3</td>\n",
       "      <td>1770.5</td>\n",
       "    </tr>\n",
       "  </tbody>\n",
       "</table>\n",
       "<p>5 rows × 34 columns</p>\n",
       "</div>"
      ],
      "text/plain": [
       "   blueWins  blueWardsPlaced  blueWardsDestroyed  blueFirstBlood  blueKills  \\\n",
       "0         0               19                   0               0          8   \n",
       "1         1               39                   1               0          7   \n",
       "2         0               18                   3               0          3   \n",
       "3         1               14                   0               1          5   \n",
       "4         0                9                   1               0          0   \n",
       "\n",
       "   blueDeaths  blueAssists  blueEliteMonsters  blueDragons  blueHeralds  ...  \\\n",
       "0           8            4                  1            1            0  ...   \n",
       "1           6            6                  0            0            0  ...   \n",
       "2           7            3                  0            0            0  ...   \n",
       "3           7            5                  1            0            1  ...   \n",
       "4           9            0                  0            0            0  ...   \n",
       "\n",
       "   redDragons  redHeralds  redTowersDestroyed  redTotalGold  redAvgLevel  \\\n",
       "0           0           1                   0         17095          7.2   \n",
       "1           1           0                   0         16041          7.2   \n",
       "2           1           1                   0         17570          7.2   \n",
       "3           1           0                   0         17632          7.2   \n",
       "4           1           1                   0         17705          7.4   \n",
       "\n",
       "   redTotalExperience  redTotalMinionsKilled  redTotalJungleMinionsKilled  \\\n",
       "0               18056                    232                           39   \n",
       "1               19296                    214                           44   \n",
       "2               19233                    240                           65   \n",
       "3               18883                    231                           68   \n",
       "4               20260                    253                           52   \n",
       "\n",
       "   redCSPerMin  redGoldPerMin  \n",
       "0         23.2         1709.5  \n",
       "1         21.4         1604.1  \n",
       "2         24.0         1757.0  \n",
       "3         23.1         1763.2  \n",
       "4         25.3         1770.5  \n",
       "\n",
       "[5 rows x 34 columns]"
      ]
     },
     "execution_count": 29,
     "metadata": {},
     "output_type": "execute_result"
    }
   ],
   "source": [
    "# Remove the uncommon variables from the validation data\n",
    "df_valid = df_valid.drop(columns=uncommon_var_train_not_test)\n",
    "\n",
    "# Print the first 5 rows of df_train\n",
    "df_valid.head()"
   ]
  },
  {
   "cell_type": "code",
   "execution_count": 30,
   "metadata": {
    "colab": {},
    "colab_type": "code",
    "id": "q-ZQSUxqNmH1"
   },
   "outputs": [
    {
     "data": {
      "text/html": [
       "<div>\n",
       "<style scoped>\n",
       "    .dataframe tbody tr th:only-of-type {\n",
       "        vertical-align: middle;\n",
       "    }\n",
       "\n",
       "    .dataframe tbody tr th {\n",
       "        vertical-align: top;\n",
       "    }\n",
       "\n",
       "    .dataframe thead th {\n",
       "        text-align: right;\n",
       "    }\n",
       "</style>\n",
       "<table border=\"1\" class=\"dataframe\">\n",
       "  <thead>\n",
       "    <tr style=\"text-align: right;\">\n",
       "      <th></th>\n",
       "      <th>blueWins</th>\n",
       "      <th>blueWardsPlaced</th>\n",
       "      <th>blueWardsDestroyed</th>\n",
       "      <th>blueFirstBlood</th>\n",
       "      <th>blueKills</th>\n",
       "      <th>blueDeaths</th>\n",
       "      <th>blueAssists</th>\n",
       "      <th>blueEliteMonsters</th>\n",
       "      <th>blueDragons</th>\n",
       "      <th>blueHeralds</th>\n",
       "      <th>...</th>\n",
       "      <th>redDragons</th>\n",
       "      <th>redHeralds</th>\n",
       "      <th>redTowersDestroyed</th>\n",
       "      <th>redTotalGold</th>\n",
       "      <th>redAvgLevel</th>\n",
       "      <th>redTotalExperience</th>\n",
       "      <th>redTotalMinionsKilled</th>\n",
       "      <th>redTotalJungleMinionsKilled</th>\n",
       "      <th>redCSPerMin</th>\n",
       "      <th>redGoldPerMin</th>\n",
       "    </tr>\n",
       "  </thead>\n",
       "  <tbody>\n",
       "    <tr>\n",
       "      <th>0</th>\n",
       "      <td>0</td>\n",
       "      <td>14</td>\n",
       "      <td>2</td>\n",
       "      <td>0</td>\n",
       "      <td>4</td>\n",
       "      <td>8</td>\n",
       "      <td>3</td>\n",
       "      <td>2</td>\n",
       "      <td>1</td>\n",
       "      <td>1</td>\n",
       "      <td>...</td>\n",
       "      <td>0</td>\n",
       "      <td>0</td>\n",
       "      <td>1</td>\n",
       "      <td>19675</td>\n",
       "      <td>7.4</td>\n",
       "      <td>19936</td>\n",
       "      <td>232</td>\n",
       "      <td>67</td>\n",
       "      <td>23.2</td>\n",
       "      <td>1967.5</td>\n",
       "    </tr>\n",
       "    <tr>\n",
       "      <th>1</th>\n",
       "      <td>1</td>\n",
       "      <td>15</td>\n",
       "      <td>1</td>\n",
       "      <td>1</td>\n",
       "      <td>10</td>\n",
       "      <td>5</td>\n",
       "      <td>10</td>\n",
       "      <td>0</td>\n",
       "      <td>0</td>\n",
       "      <td>0</td>\n",
       "      <td>...</td>\n",
       "      <td>0</td>\n",
       "      <td>0</td>\n",
       "      <td>0</td>\n",
       "      <td>15577</td>\n",
       "      <td>6.8</td>\n",
       "      <td>17645</td>\n",
       "      <td>203</td>\n",
       "      <td>44</td>\n",
       "      <td>20.3</td>\n",
       "      <td>1557.7</td>\n",
       "    </tr>\n",
       "    <tr>\n",
       "      <th>2</th>\n",
       "      <td>1</td>\n",
       "      <td>10</td>\n",
       "      <td>5</td>\n",
       "      <td>0</td>\n",
       "      <td>16</td>\n",
       "      <td>13</td>\n",
       "      <td>16</td>\n",
       "      <td>2</td>\n",
       "      <td>1</td>\n",
       "      <td>1</td>\n",
       "      <td>...</td>\n",
       "      <td>0</td>\n",
       "      <td>0</td>\n",
       "      <td>0</td>\n",
       "      <td>18891</td>\n",
       "      <td>7.0</td>\n",
       "      <td>17820</td>\n",
       "      <td>191</td>\n",
       "      <td>52</td>\n",
       "      <td>19.1</td>\n",
       "      <td>1889.1</td>\n",
       "    </tr>\n",
       "    <tr>\n",
       "      <th>3</th>\n",
       "      <td>1</td>\n",
       "      <td>81</td>\n",
       "      <td>5</td>\n",
       "      <td>0</td>\n",
       "      <td>11</td>\n",
       "      <td>11</td>\n",
       "      <td>14</td>\n",
       "      <td>0</td>\n",
       "      <td>0</td>\n",
       "      <td>0</td>\n",
       "      <td>...</td>\n",
       "      <td>1</td>\n",
       "      <td>0</td>\n",
       "      <td>0</td>\n",
       "      <td>17472</td>\n",
       "      <td>7.0</td>\n",
       "      <td>17509</td>\n",
       "      <td>200</td>\n",
       "      <td>24</td>\n",
       "      <td>20.0</td>\n",
       "      <td>1747.2</td>\n",
       "    </tr>\n",
       "    <tr>\n",
       "      <th>4</th>\n",
       "      <td>0</td>\n",
       "      <td>18</td>\n",
       "      <td>2</td>\n",
       "      <td>0</td>\n",
       "      <td>8</td>\n",
       "      <td>13</td>\n",
       "      <td>5</td>\n",
       "      <td>0</td>\n",
       "      <td>0</td>\n",
       "      <td>0</td>\n",
       "      <td>...</td>\n",
       "      <td>0</td>\n",
       "      <td>0</td>\n",
       "      <td>0</td>\n",
       "      <td>19133</td>\n",
       "      <td>7.2</td>\n",
       "      <td>19174</td>\n",
       "      <td>223</td>\n",
       "      <td>38</td>\n",
       "      <td>22.3</td>\n",
       "      <td>1913.3</td>\n",
       "    </tr>\n",
       "  </tbody>\n",
       "</table>\n",
       "<p>5 rows × 34 columns</p>\n",
       "</div>"
      ],
      "text/plain": [
       "   blueWins  blueWardsPlaced  blueWardsDestroyed  blueFirstBlood  blueKills  \\\n",
       "0         0               14                   2               0          4   \n",
       "1         1               15                   1               1         10   \n",
       "2         1               10                   5               0         16   \n",
       "3         1               81                   5               0         11   \n",
       "4         0               18                   2               0          8   \n",
       "\n",
       "   blueDeaths  blueAssists  blueEliteMonsters  blueDragons  blueHeralds  ...  \\\n",
       "0           8            3                  2            1            1  ...   \n",
       "1           5           10                  0            0            0  ...   \n",
       "2          13           16                  2            1            1  ...   \n",
       "3          11           14                  0            0            0  ...   \n",
       "4          13            5                  0            0            0  ...   \n",
       "\n",
       "   redDragons  redHeralds  redTowersDestroyed  redTotalGold  redAvgLevel  \\\n",
       "0           0           0                   1         19675          7.4   \n",
       "1           0           0                   0         15577          6.8   \n",
       "2           0           0                   0         18891          7.0   \n",
       "3           1           0                   0         17472          7.0   \n",
       "4           0           0                   0         19133          7.2   \n",
       "\n",
       "   redTotalExperience  redTotalMinionsKilled  redTotalJungleMinionsKilled  \\\n",
       "0               19936                    232                           67   \n",
       "1               17645                    203                           44   \n",
       "2               17820                    191                           52   \n",
       "3               17509                    200                           24   \n",
       "4               19174                    223                           38   \n",
       "\n",
       "   redCSPerMin  redGoldPerMin  \n",
       "0         23.2         1967.5  \n",
       "1         20.3         1557.7  \n",
       "2         19.1         1889.1  \n",
       "3         20.0         1747.2  \n",
       "4         22.3         1913.3  \n",
       "\n",
       "[5 rows x 34 columns]"
      ]
     },
     "execution_count": 30,
     "metadata": {},
     "output_type": "execute_result"
    }
   ],
   "source": [
    "# Remove the uncommon variables from the testing data\n",
    "df_test = df_test.drop(columns=uncommon_var_test_not_train)\n",
    "\n",
    "# Print the first 5 rows of df_test\n",
    "df_test.head()\n"
   ]
  },
  {
   "cell_type": "markdown",
   "metadata": {
    "colab_type": "text",
    "id": "B4NyS2Y0Qb6S"
   },
   "source": [
    "## Handling missing data"
   ]
  },
  {
   "cell_type": "code",
   "execution_count": 31,
   "metadata": {
    "colab": {},
    "colab_type": "code",
    "id": "q3BvFZlB5JaZ"
   },
   "outputs": [],
   "source": [
    "# Implement me\n",
    "# Combine df_train, df_valid and df_test\n",
    "df = pd.concat([df_train, df_valid, df_test], sort=False)"
   ]
  },
  {
   "cell_type": "code",
   "execution_count": 32,
   "metadata": {
    "colab": {},
    "colab_type": "code",
    "id": "Y0hFq3khPfb9"
   },
   "outputs": [],
   "source": [
    "def nan_checker(df):\n",
    "    \"\"\"\n",
    "    The NaN checker\n",
    "\n",
    "    Parameters\n",
    "    ----------\n",
    "    df : dataframe\n",
    "    \n",
    "    Returns\n",
    "    ----------\n",
    "    The dataframe of variables with NaN, their proportion of NaN and dtype\n",
    "    \"\"\"\n",
    "    \n",
    "    # Get the variables with NaN, their proportion of NaN and dtype\n",
    "    df_nan = pd.DataFrame([[var, df[var].isna().sum() / df.shape[0], df[var].dtype]\n",
    "                           for var in df.columns if df[var].isna().sum() > 0],\n",
    "                          columns=['var', 'proportion', 'dtype'])\n",
    "    \n",
    "    # Sort df_nan in accending order of the proportion of NaN\n",
    "    df_nan = df_nan.sort_values(by='proportion', ascending=False).reset_index(drop=True)\n",
    "    \n",
    "    return df_nan"
   ]
  },
  {
   "cell_type": "code",
   "execution_count": 33,
   "metadata": {
    "colab": {},
    "colab_type": "code",
    "id": "6eeBAUPcPfek"
   },
   "outputs": [
    {
     "data": {
      "text/html": [
       "<div>\n",
       "<style scoped>\n",
       "    .dataframe tbody tr th:only-of-type {\n",
       "        vertical-align: middle;\n",
       "    }\n",
       "\n",
       "    .dataframe tbody tr th {\n",
       "        vertical-align: top;\n",
       "    }\n",
       "\n",
       "    .dataframe thead th {\n",
       "        text-align: right;\n",
       "    }\n",
       "</style>\n",
       "<table border=\"1\" class=\"dataframe\">\n",
       "  <thead>\n",
       "    <tr style=\"text-align: right;\">\n",
       "      <th></th>\n",
       "      <th>var</th>\n",
       "      <th>proportion</th>\n",
       "      <th>dtype</th>\n",
       "    </tr>\n",
       "  </thead>\n",
       "  <tbody>\n",
       "  </tbody>\n",
       "</table>\n",
       "</div>"
      ],
      "text/plain": [
       "Empty DataFrame\n",
       "Columns: [var, proportion, dtype]\n",
       "Index: []"
      ]
     },
     "execution_count": 33,
     "metadata": {},
     "output_type": "execute_result"
    }
   ],
   "source": [
    "# Call nan_checker on df\n",
    "df_nan = nan_checker(df)\n",
    "\n",
    "# Print df_nan\n",
    "df_nan"
   ]
  },
  {
   "cell_type": "code",
   "execution_count": 34,
   "metadata": {
    "colab": {},
    "colab_type": "code",
    "id": "dYipA8cGPfi0"
   },
   "outputs": [
    {
     "data": {
      "text/html": [
       "<div>\n",
       "<style scoped>\n",
       "    .dataframe tbody tr th:only-of-type {\n",
       "        vertical-align: middle;\n",
       "    }\n",
       "\n",
       "    .dataframe tbody tr th {\n",
       "        vertical-align: top;\n",
       "    }\n",
       "\n",
       "    .dataframe thead th {\n",
       "        text-align: right;\n",
       "    }\n",
       "</style>\n",
       "<table border=\"1\" class=\"dataframe\">\n",
       "  <thead>\n",
       "    <tr style=\"text-align: right;\">\n",
       "      <th></th>\n",
       "      <th>dtype</th>\n",
       "    </tr>\n",
       "  </thead>\n",
       "  <tbody>\n",
       "  </tbody>\n",
       "</table>\n",
       "</div>"
      ],
      "text/plain": [
       "Empty DataFrame\n",
       "Columns: [dtype]\n",
       "Index: []"
      ]
     },
     "execution_count": 34,
     "metadata": {},
     "output_type": "execute_result"
    }
   ],
   "source": [
    "# Print the unique dtype of the variables with NaN\n",
    "pd.DataFrame(df_nan['dtype'].unique(), columns=['dtype'])"
   ]
  },
  {
   "cell_type": "code",
   "execution_count": 35,
   "metadata": {
    "colab": {},
    "colab_type": "code",
    "id": "vh7dMT9JPflS"
   },
   "outputs": [
    {
     "data": {
      "text/html": [
       "<div>\n",
       "<style scoped>\n",
       "    .dataframe tbody tr th:only-of-type {\n",
       "        vertical-align: middle;\n",
       "    }\n",
       "\n",
       "    .dataframe tbody tr th {\n",
       "        vertical-align: top;\n",
       "    }\n",
       "\n",
       "    .dataframe thead th {\n",
       "        text-align: right;\n",
       "    }\n",
       "</style>\n",
       "<table border=\"1\" class=\"dataframe\">\n",
       "  <thead>\n",
       "    <tr style=\"text-align: right;\">\n",
       "      <th></th>\n",
       "      <th>var</th>\n",
       "      <th>proportion</th>\n",
       "      <th>dtype</th>\n",
       "    </tr>\n",
       "  </thead>\n",
       "  <tbody>\n",
       "  </tbody>\n",
       "</table>\n",
       "</div>"
      ],
      "text/plain": [
       "Empty DataFrame\n",
       "Columns: [var, proportion, dtype]\n",
       "Index: []"
      ]
     },
     "execution_count": 35,
     "metadata": {},
     "output_type": "execute_result"
    }
   ],
   "source": [
    "# Get the variables with missing values, their proportion of missing values and dtype\n",
    "df_miss = df_nan[df_nan['dtype'] == 'float64'].reset_index(drop=True)\n",
    "\n",
    "# Print df_miss\n",
    "df_miss"
   ]
  },
  {
   "cell_type": "code",
   "execution_count": 36,
   "metadata": {
    "colab": {},
    "colab_type": "code",
    "id": "EXZjUUGBPfhm"
   },
   "outputs": [],
   "source": [
    "import numpy as np\n",
    "\n",
    "# Remove rows with missing values from df_train\n",
    "df_train = df_train.dropna(subset=np.intersect1d(df_miss['var'], df_train.columns), inplace=False)\n",
    "\n",
    "# Remove rows with missing values from df_valid\n",
    "df_valid = df_valid.dropna(subset=np.intersect1d(df_miss['var'], df_valid.columns), inplace=False)\n",
    "\n",
    "# Remove rows with missing values from df_test\n",
    "df_test = df_test.dropna(subset=np.intersect1d(df_miss['var'], df_test.columns), inplace=False)"
   ]
  },
  {
   "cell_type": "code",
   "execution_count": 37,
   "metadata": {
    "colab": {},
    "colab_type": "code",
    "id": "fVq_cq_wQHC0"
   },
   "outputs": [
    {
     "data": {
      "text/html": [
       "<div>\n",
       "<style scoped>\n",
       "    .dataframe tbody tr th:only-of-type {\n",
       "        vertical-align: middle;\n",
       "    }\n",
       "\n",
       "    .dataframe tbody tr th {\n",
       "        vertical-align: top;\n",
       "    }\n",
       "\n",
       "    .dataframe thead th {\n",
       "        text-align: right;\n",
       "    }\n",
       "</style>\n",
       "<table border=\"1\" class=\"dataframe\">\n",
       "  <thead>\n",
       "    <tr style=\"text-align: right;\">\n",
       "      <th></th>\n",
       "      <th># rows</th>\n",
       "      <th># columns</th>\n",
       "    </tr>\n",
       "  </thead>\n",
       "  <tbody>\n",
       "    <tr>\n",
       "      <th>0</th>\n",
       "      <td>5532</td>\n",
       "      <td>34</td>\n",
       "    </tr>\n",
       "  </tbody>\n",
       "</table>\n",
       "</div>"
      ],
      "text/plain": [
       "   # rows  # columns\n",
       "0    5532         34"
      ]
     },
     "execution_count": 37,
     "metadata": {},
     "output_type": "execute_result"
    }
   ],
   "source": [
    "# Print the dimension of df_train\n",
    "pd.DataFrame([[df_train.shape[0], df_train.shape[1]]], columns=['# rows', '# columns'])"
   ]
  },
  {
   "cell_type": "code",
   "execution_count": 38,
   "metadata": {
    "colab": {},
    "colab_type": "code",
    "id": "j-dcbg8OQHIk"
   },
   "outputs": [
    {
     "data": {
      "text/html": [
       "<div>\n",
       "<style scoped>\n",
       "    .dataframe tbody tr th:only-of-type {\n",
       "        vertical-align: middle;\n",
       "    }\n",
       "\n",
       "    .dataframe tbody tr th {\n",
       "        vertical-align: top;\n",
       "    }\n",
       "\n",
       "    .dataframe thead th {\n",
       "        text-align: right;\n",
       "    }\n",
       "</style>\n",
       "<table border=\"1\" class=\"dataframe\">\n",
       "  <thead>\n",
       "    <tr style=\"text-align: right;\">\n",
       "      <th></th>\n",
       "      <th># rows</th>\n",
       "      <th># columns</th>\n",
       "    </tr>\n",
       "  </thead>\n",
       "  <tbody>\n",
       "    <tr>\n",
       "      <th>0</th>\n",
       "      <td>1383</td>\n",
       "      <td>34</td>\n",
       "    </tr>\n",
       "  </tbody>\n",
       "</table>\n",
       "</div>"
      ],
      "text/plain": [
       "   # rows  # columns\n",
       "0    1383         34"
      ]
     },
     "execution_count": 38,
     "metadata": {},
     "output_type": "execute_result"
    }
   ],
   "source": [
    "# Print the dimension of df_valid\n",
    "pd.DataFrame([[df_valid.shape[0], df_valid.shape[1]]], columns=['# rows', '# columns'])"
   ]
  },
  {
   "cell_type": "code",
   "execution_count": 39,
   "metadata": {
    "colab": {},
    "colab_type": "code",
    "id": "xN0b2DZnQHcJ"
   },
   "outputs": [
    {
     "data": {
      "text/html": [
       "<div>\n",
       "<style scoped>\n",
       "    .dataframe tbody tr th:only-of-type {\n",
       "        vertical-align: middle;\n",
       "    }\n",
       "\n",
       "    .dataframe tbody tr th {\n",
       "        vertical-align: top;\n",
       "    }\n",
       "\n",
       "    .dataframe thead th {\n",
       "        text-align: right;\n",
       "    }\n",
       "</style>\n",
       "<table border=\"1\" class=\"dataframe\">\n",
       "  <thead>\n",
       "    <tr style=\"text-align: right;\">\n",
       "      <th></th>\n",
       "      <th># rows</th>\n",
       "      <th># columns</th>\n",
       "    </tr>\n",
       "  </thead>\n",
       "  <tbody>\n",
       "    <tr>\n",
       "      <th>0</th>\n",
       "      <td>2964</td>\n",
       "      <td>34</td>\n",
       "    </tr>\n",
       "  </tbody>\n",
       "</table>\n",
       "</div>"
      ],
      "text/plain": [
       "   # rows  # columns\n",
       "0    2964         34"
      ]
     },
     "execution_count": 39,
     "metadata": {},
     "output_type": "execute_result"
    }
   ],
   "source": [
    "# Print the dimension of df_test\n",
    "pd.DataFrame([[df_test.shape[0], df_test.shape[1]]], columns=['# rows', '# columns'])"
   ]
  },
  {
   "cell_type": "markdown",
   "metadata": {
    "colab_type": "text",
    "id": "9cIdnJYmQb6e"
   },
   "source": [
    "## Encoding the data"
   ]
  },
  {
   "cell_type": "code",
   "execution_count": 40,
   "metadata": {
    "colab": {},
    "colab_type": "code",
    "id": "m1WB3WMl5PSf"
   },
   "outputs": [
    {
     "data": {
      "text/html": [
       "<div>\n",
       "<style scoped>\n",
       "    .dataframe tbody tr th:only-of-type {\n",
       "        vertical-align: middle;\n",
       "    }\n",
       "\n",
       "    .dataframe tbody tr th {\n",
       "        vertical-align: top;\n",
       "    }\n",
       "\n",
       "    .dataframe thead th {\n",
       "        text-align: right;\n",
       "    }\n",
       "</style>\n",
       "<table border=\"1\" class=\"dataframe\">\n",
       "  <thead>\n",
       "    <tr style=\"text-align: right;\">\n",
       "      <th></th>\n",
       "      <th>dtype</th>\n",
       "    </tr>\n",
       "  </thead>\n",
       "  <tbody>\n",
       "    <tr>\n",
       "      <th>0</th>\n",
       "      <td>int64</td>\n",
       "    </tr>\n",
       "    <tr>\n",
       "      <th>1</th>\n",
       "      <td>float64</td>\n",
       "    </tr>\n",
       "  </tbody>\n",
       "</table>\n",
       "</div>"
      ],
      "text/plain": [
       "     dtype\n",
       "0    int64\n",
       "1  float64"
      ]
     },
     "execution_count": 40,
     "metadata": {},
     "output_type": "execute_result"
    }
   ],
   "source": [
    "# Implement me\n",
    "# Combine df_train, df_valid and df_test\n",
    "df = pd.concat([df_train, df_valid, df_test], sort=False)\n",
    "\n",
    "# Print the unique dtype of variables in df\n",
    "pd.DataFrame(df.dtypes.unique(), columns=['dtype'])"
   ]
  },
  {
   "cell_type": "code",
   "execution_count": 41,
   "metadata": {
    "colab": {},
    "colab_type": "code",
    "id": "UWz65B6WQ98a"
   },
   "outputs": [],
   "source": [
    "def cat_var_checker(df):\n",
    "    \"\"\"\n",
    "    The categorical variable checker\n",
    "\n",
    "    Parameters\n",
    "    ----------\n",
    "    df: the dataframe\n",
    "    \n",
    "    Returns\n",
    "    ----------\n",
    "    The dataframe of categorical variables and their number of unique value\n",
    "    \"\"\"\n",
    "    \n",
    "    # Get the dataframe of categorical variables and their number of unique value\n",
    "    df_cat = pd.DataFrame([[var, df[var].nunique(dropna=False)]\n",
    "                           for var in df.columns if df[var].dtype == 'object'],\n",
    "                          columns=['var', 'nunique'])\n",
    "    \n",
    "    # Sort df_cat in accending order of the number of unique value\n",
    "    df_cat = df_cat.sort_values(by='nunique', ascending=False).reset_index(drop=True)\n",
    "    \n",
    "    return df_cat"
   ]
  },
  {
   "cell_type": "code",
   "execution_count": 42,
   "metadata": {
    "colab": {},
    "colab_type": "code",
    "id": "R316Qz50Q-Bm"
   },
   "outputs": [
    {
     "data": {
      "text/html": [
       "<div>\n",
       "<style scoped>\n",
       "    .dataframe tbody tr th:only-of-type {\n",
       "        vertical-align: middle;\n",
       "    }\n",
       "\n",
       "    .dataframe tbody tr th {\n",
       "        vertical-align: top;\n",
       "    }\n",
       "\n",
       "    .dataframe thead th {\n",
       "        text-align: right;\n",
       "    }\n",
       "</style>\n",
       "<table border=\"1\" class=\"dataframe\">\n",
       "  <thead>\n",
       "    <tr style=\"text-align: right;\">\n",
       "      <th></th>\n",
       "      <th>var</th>\n",
       "      <th>nunique</th>\n",
       "    </tr>\n",
       "  </thead>\n",
       "  <tbody>\n",
       "  </tbody>\n",
       "</table>\n",
       "</div>"
      ],
      "text/plain": [
       "Empty DataFrame\n",
       "Columns: [var, nunique]\n",
       "Index: []"
      ]
     },
     "execution_count": 42,
     "metadata": {},
     "output_type": "execute_result"
    }
   ],
   "source": [
    "# Call cat_var_checker on df\n",
    "df_cat = cat_var_checker(df)\n",
    "\n",
    "# Print the dataframe\n",
    "df_cat"
   ]
  },
  {
   "cell_type": "code",
   "execution_count": 43,
   "metadata": {
    "colab": {},
    "colab_type": "code",
    "id": "-b8e30faacN1"
   },
   "outputs": [
    {
     "data": {
      "text/html": [
       "<div>\n",
       "<style scoped>\n",
       "    .dataframe tbody tr th:only-of-type {\n",
       "        vertical-align: middle;\n",
       "    }\n",
       "\n",
       "    .dataframe tbody tr th {\n",
       "        vertical-align: top;\n",
       "    }\n",
       "\n",
       "    .dataframe thead th {\n",
       "        text-align: right;\n",
       "    }\n",
       "</style>\n",
       "<table border=\"1\" class=\"dataframe\">\n",
       "  <thead>\n",
       "    <tr style=\"text-align: right;\">\n",
       "      <th></th>\n",
       "      <th>blueWins</th>\n",
       "      <th>blueWardsPlaced</th>\n",
       "      <th>blueWardsDestroyed</th>\n",
       "      <th>blueFirstBlood</th>\n",
       "      <th>blueKills</th>\n",
       "      <th>blueDeaths</th>\n",
       "      <th>blueAssists</th>\n",
       "      <th>blueEliteMonsters</th>\n",
       "      <th>blueDragons</th>\n",
       "      <th>blueHeralds</th>\n",
       "      <th>...</th>\n",
       "      <th>redDragons</th>\n",
       "      <th>redHeralds</th>\n",
       "      <th>redTowersDestroyed</th>\n",
       "      <th>redTotalGold</th>\n",
       "      <th>redAvgLevel</th>\n",
       "      <th>redTotalExperience</th>\n",
       "      <th>redTotalMinionsKilled</th>\n",
       "      <th>redTotalJungleMinionsKilled</th>\n",
       "      <th>redCSPerMin</th>\n",
       "      <th>redGoldPerMin</th>\n",
       "    </tr>\n",
       "  </thead>\n",
       "  <tbody>\n",
       "    <tr>\n",
       "      <th>0</th>\n",
       "      <td>0</td>\n",
       "      <td>16</td>\n",
       "      <td>0</td>\n",
       "      <td>1</td>\n",
       "      <td>6</td>\n",
       "      <td>9</td>\n",
       "      <td>9</td>\n",
       "      <td>0</td>\n",
       "      <td>0</td>\n",
       "      <td>0</td>\n",
       "      <td>...</td>\n",
       "      <td>0</td>\n",
       "      <td>0</td>\n",
       "      <td>0</td>\n",
       "      <td>18429</td>\n",
       "      <td>7.2</td>\n",
       "      <td>19458</td>\n",
       "      <td>208</td>\n",
       "      <td>56</td>\n",
       "      <td>20.8</td>\n",
       "      <td>1842.9</td>\n",
       "    </tr>\n",
       "    <tr>\n",
       "      <th>1</th>\n",
       "      <td>1</td>\n",
       "      <td>52</td>\n",
       "      <td>4</td>\n",
       "      <td>0</td>\n",
       "      <td>10</td>\n",
       "      <td>4</td>\n",
       "      <td>15</td>\n",
       "      <td>1</td>\n",
       "      <td>1</td>\n",
       "      <td>0</td>\n",
       "      <td>...</td>\n",
       "      <td>0</td>\n",
       "      <td>0</td>\n",
       "      <td>0</td>\n",
       "      <td>15594</td>\n",
       "      <td>7.0</td>\n",
       "      <td>17014</td>\n",
       "      <td>215</td>\n",
       "      <td>55</td>\n",
       "      <td>21.5</td>\n",
       "      <td>1559.4</td>\n",
       "    </tr>\n",
       "    <tr>\n",
       "      <th>2</th>\n",
       "      <td>0</td>\n",
       "      <td>38</td>\n",
       "      <td>1</td>\n",
       "      <td>0</td>\n",
       "      <td>7</td>\n",
       "      <td>8</td>\n",
       "      <td>9</td>\n",
       "      <td>1</td>\n",
       "      <td>0</td>\n",
       "      <td>1</td>\n",
       "      <td>...</td>\n",
       "      <td>1</td>\n",
       "      <td>0</td>\n",
       "      <td>0</td>\n",
       "      <td>17012</td>\n",
       "      <td>6.8</td>\n",
       "      <td>17174</td>\n",
       "      <td>225</td>\n",
       "      <td>43</td>\n",
       "      <td>22.5</td>\n",
       "      <td>1701.2</td>\n",
       "    </tr>\n",
       "    <tr>\n",
       "      <th>3</th>\n",
       "      <td>1</td>\n",
       "      <td>11</td>\n",
       "      <td>1</td>\n",
       "      <td>0</td>\n",
       "      <td>5</td>\n",
       "      <td>6</td>\n",
       "      <td>7</td>\n",
       "      <td>0</td>\n",
       "      <td>0</td>\n",
       "      <td>0</td>\n",
       "      <td>...</td>\n",
       "      <td>0</td>\n",
       "      <td>0</td>\n",
       "      <td>0</td>\n",
       "      <td>17746</td>\n",
       "      <td>7.2</td>\n",
       "      <td>19120</td>\n",
       "      <td>243</td>\n",
       "      <td>54</td>\n",
       "      <td>24.3</td>\n",
       "      <td>1774.6</td>\n",
       "    </tr>\n",
       "    <tr>\n",
       "      <th>4</th>\n",
       "      <td>1</td>\n",
       "      <td>14</td>\n",
       "      <td>4</td>\n",
       "      <td>1</td>\n",
       "      <td>5</td>\n",
       "      <td>2</td>\n",
       "      <td>5</td>\n",
       "      <td>2</td>\n",
       "      <td>1</td>\n",
       "      <td>1</td>\n",
       "      <td>...</td>\n",
       "      <td>0</td>\n",
       "      <td>0</td>\n",
       "      <td>0</td>\n",
       "      <td>14268</td>\n",
       "      <td>6.6</td>\n",
       "      <td>16995</td>\n",
       "      <td>221</td>\n",
       "      <td>45</td>\n",
       "      <td>22.1</td>\n",
       "      <td>1426.8</td>\n",
       "    </tr>\n",
       "  </tbody>\n",
       "</table>\n",
       "<p>5 rows × 34 columns</p>\n",
       "</div>"
      ],
      "text/plain": [
       "   blueWins  blueWardsPlaced  blueWardsDestroyed  blueFirstBlood  blueKills  \\\n",
       "0         0               16                   0               1          6   \n",
       "1         1               52                   4               0         10   \n",
       "2         0               38                   1               0          7   \n",
       "3         1               11                   1               0          5   \n",
       "4         1               14                   4               1          5   \n",
       "\n",
       "   blueDeaths  blueAssists  blueEliteMonsters  blueDragons  blueHeralds  ...  \\\n",
       "0           9            9                  0            0            0  ...   \n",
       "1           4           15                  1            1            0  ...   \n",
       "2           8            9                  1            0            1  ...   \n",
       "3           6            7                  0            0            0  ...   \n",
       "4           2            5                  2            1            1  ...   \n",
       "\n",
       "   redDragons  redHeralds  redTowersDestroyed  redTotalGold  redAvgLevel  \\\n",
       "0           0           0                   0         18429          7.2   \n",
       "1           0           0                   0         15594          7.0   \n",
       "2           1           0                   0         17012          6.8   \n",
       "3           0           0                   0         17746          7.2   \n",
       "4           0           0                   0         14268          6.6   \n",
       "\n",
       "   redTotalExperience  redTotalMinionsKilled  redTotalJungleMinionsKilled  \\\n",
       "0               19458                    208                           56   \n",
       "1               17014                    215                           55   \n",
       "2               17174                    225                           43   \n",
       "3               19120                    243                           54   \n",
       "4               16995                    221                           45   \n",
       "\n",
       "   redCSPerMin  redGoldPerMin  \n",
       "0         20.8         1842.9  \n",
       "1         21.5         1559.4  \n",
       "2         22.5         1701.2  \n",
       "3         24.3         1774.6  \n",
       "4         22.1         1426.8  \n",
       "\n",
       "[5 rows x 34 columns]"
      ]
     },
     "execution_count": 43,
     "metadata": {},
     "output_type": "execute_result"
    }
   ],
   "source": [
    "# One-hot-encode the categorical features in the combined data\n",
    "df = pd.get_dummies(df, columns=np.setdiff1d(np.intersect1d(df.columns, df_cat['var']), [target]))\n",
    "\n",
    "# Print the first 5 rows of df\n",
    "df.head()"
   ]
  },
  {
   "cell_type": "code",
   "execution_count": 44,
   "metadata": {
    "colab": {},
    "colab_type": "code",
    "id": "0CmdO1UMYncu"
   },
   "outputs": [
    {
     "data": {
      "text/html": [
       "<div>\n",
       "<style scoped>\n",
       "    .dataframe tbody tr th:only-of-type {\n",
       "        vertical-align: middle;\n",
       "    }\n",
       "\n",
       "    .dataframe tbody tr th {\n",
       "        vertical-align: top;\n",
       "    }\n",
       "\n",
       "    .dataframe thead th {\n",
       "        text-align: right;\n",
       "    }\n",
       "</style>\n",
       "<table border=\"1\" class=\"dataframe\">\n",
       "  <thead>\n",
       "    <tr style=\"text-align: right;\">\n",
       "      <th></th>\n",
       "      <th>blueWins</th>\n",
       "      <th>blueWardsPlaced</th>\n",
       "      <th>blueWardsDestroyed</th>\n",
       "      <th>blueFirstBlood</th>\n",
       "      <th>blueKills</th>\n",
       "      <th>blueDeaths</th>\n",
       "      <th>blueAssists</th>\n",
       "      <th>blueEliteMonsters</th>\n",
       "      <th>blueDragons</th>\n",
       "      <th>blueHeralds</th>\n",
       "      <th>...</th>\n",
       "      <th>redDragons</th>\n",
       "      <th>redHeralds</th>\n",
       "      <th>redTowersDestroyed</th>\n",
       "      <th>redTotalGold</th>\n",
       "      <th>redAvgLevel</th>\n",
       "      <th>redTotalExperience</th>\n",
       "      <th>redTotalMinionsKilled</th>\n",
       "      <th>redTotalJungleMinionsKilled</th>\n",
       "      <th>redCSPerMin</th>\n",
       "      <th>redGoldPerMin</th>\n",
       "    </tr>\n",
       "  </thead>\n",
       "  <tbody>\n",
       "    <tr>\n",
       "      <th>0</th>\n",
       "      <td>0</td>\n",
       "      <td>16</td>\n",
       "      <td>0</td>\n",
       "      <td>1</td>\n",
       "      <td>6</td>\n",
       "      <td>9</td>\n",
       "      <td>9</td>\n",
       "      <td>0</td>\n",
       "      <td>0</td>\n",
       "      <td>0</td>\n",
       "      <td>...</td>\n",
       "      <td>0</td>\n",
       "      <td>0</td>\n",
       "      <td>0</td>\n",
       "      <td>18429</td>\n",
       "      <td>7.2</td>\n",
       "      <td>19458</td>\n",
       "      <td>208</td>\n",
       "      <td>56</td>\n",
       "      <td>20.8</td>\n",
       "      <td>1842.9</td>\n",
       "    </tr>\n",
       "    <tr>\n",
       "      <th>1</th>\n",
       "      <td>1</td>\n",
       "      <td>52</td>\n",
       "      <td>4</td>\n",
       "      <td>0</td>\n",
       "      <td>10</td>\n",
       "      <td>4</td>\n",
       "      <td>15</td>\n",
       "      <td>1</td>\n",
       "      <td>1</td>\n",
       "      <td>0</td>\n",
       "      <td>...</td>\n",
       "      <td>0</td>\n",
       "      <td>0</td>\n",
       "      <td>0</td>\n",
       "      <td>15594</td>\n",
       "      <td>7.0</td>\n",
       "      <td>17014</td>\n",
       "      <td>215</td>\n",
       "      <td>55</td>\n",
       "      <td>21.5</td>\n",
       "      <td>1559.4</td>\n",
       "    </tr>\n",
       "    <tr>\n",
       "      <th>2</th>\n",
       "      <td>0</td>\n",
       "      <td>38</td>\n",
       "      <td>1</td>\n",
       "      <td>0</td>\n",
       "      <td>7</td>\n",
       "      <td>8</td>\n",
       "      <td>9</td>\n",
       "      <td>1</td>\n",
       "      <td>0</td>\n",
       "      <td>1</td>\n",
       "      <td>...</td>\n",
       "      <td>1</td>\n",
       "      <td>0</td>\n",
       "      <td>0</td>\n",
       "      <td>17012</td>\n",
       "      <td>6.8</td>\n",
       "      <td>17174</td>\n",
       "      <td>225</td>\n",
       "      <td>43</td>\n",
       "      <td>22.5</td>\n",
       "      <td>1701.2</td>\n",
       "    </tr>\n",
       "    <tr>\n",
       "      <th>3</th>\n",
       "      <td>1</td>\n",
       "      <td>11</td>\n",
       "      <td>1</td>\n",
       "      <td>0</td>\n",
       "      <td>5</td>\n",
       "      <td>6</td>\n",
       "      <td>7</td>\n",
       "      <td>0</td>\n",
       "      <td>0</td>\n",
       "      <td>0</td>\n",
       "      <td>...</td>\n",
       "      <td>0</td>\n",
       "      <td>0</td>\n",
       "      <td>0</td>\n",
       "      <td>17746</td>\n",
       "      <td>7.2</td>\n",
       "      <td>19120</td>\n",
       "      <td>243</td>\n",
       "      <td>54</td>\n",
       "      <td>24.3</td>\n",
       "      <td>1774.6</td>\n",
       "    </tr>\n",
       "    <tr>\n",
       "      <th>4</th>\n",
       "      <td>1</td>\n",
       "      <td>14</td>\n",
       "      <td>4</td>\n",
       "      <td>1</td>\n",
       "      <td>5</td>\n",
       "      <td>2</td>\n",
       "      <td>5</td>\n",
       "      <td>2</td>\n",
       "      <td>1</td>\n",
       "      <td>1</td>\n",
       "      <td>...</td>\n",
       "      <td>0</td>\n",
       "      <td>0</td>\n",
       "      <td>0</td>\n",
       "      <td>14268</td>\n",
       "      <td>6.6</td>\n",
       "      <td>16995</td>\n",
       "      <td>221</td>\n",
       "      <td>45</td>\n",
       "      <td>22.1</td>\n",
       "      <td>1426.8</td>\n",
       "    </tr>\n",
       "  </tbody>\n",
       "</table>\n",
       "<p>5 rows × 34 columns</p>\n",
       "</div>"
      ],
      "text/plain": [
       "   blueWins  blueWardsPlaced  blueWardsDestroyed  blueFirstBlood  blueKills  \\\n",
       "0         0               16                   0               1          6   \n",
       "1         1               52                   4               0         10   \n",
       "2         0               38                   1               0          7   \n",
       "3         1               11                   1               0          5   \n",
       "4         1               14                   4               1          5   \n",
       "\n",
       "   blueDeaths  blueAssists  blueEliteMonsters  blueDragons  blueHeralds  ...  \\\n",
       "0           9            9                  0            0            0  ...   \n",
       "1           4           15                  1            1            0  ...   \n",
       "2           8            9                  1            0            1  ...   \n",
       "3           6            7                  0            0            0  ...   \n",
       "4           2            5                  2            1            1  ...   \n",
       "\n",
       "   redDragons  redHeralds  redTowersDestroyed  redTotalGold  redAvgLevel  \\\n",
       "0           0           0                   0         18429          7.2   \n",
       "1           0           0                   0         15594          7.0   \n",
       "2           1           0                   0         17012          6.8   \n",
       "3           0           0                   0         17746          7.2   \n",
       "4           0           0                   0         14268          6.6   \n",
       "\n",
       "   redTotalExperience  redTotalMinionsKilled  redTotalJungleMinionsKilled  \\\n",
       "0               19458                    208                           56   \n",
       "1               17014                    215                           55   \n",
       "2               17174                    225                           43   \n",
       "3               19120                    243                           54   \n",
       "4               16995                    221                           45   \n",
       "\n",
       "   redCSPerMin  redGoldPerMin  \n",
       "0         20.8         1842.9  \n",
       "1         21.5         1559.4  \n",
       "2         22.5         1701.2  \n",
       "3         24.3         1774.6  \n",
       "4         22.1         1426.8  \n",
       "\n",
       "[5 rows x 34 columns]"
      ]
     },
     "execution_count": 44,
     "metadata": {},
     "output_type": "execute_result"
    }
   ],
   "source": [
    "from sklearn.preprocessing import LabelEncoder\n",
    "\n",
    "# The LabelEncoder\n",
    "le = LabelEncoder()\n",
    "\n",
    "# Encode the categorical target in the combined data\n",
    "df[target] = le.fit_transform(df[target].astype(str))\n",
    "\n",
    "# Print the first 5 rows of df\n",
    "df.head()"
   ]
  },
  {
   "cell_type": "code",
   "execution_count": 45,
   "metadata": {
    "colab": {},
    "colab_type": "code",
    "id": "Vh8iLDK40HNo"
   },
   "outputs": [
    {
     "name": "stdout",
     "output_type": "stream",
     "text": [
      "[0 1]\n"
     ]
    }
   ],
   "source": [
    "print(np.unique(df['blueWins']))"
   ]
  },
  {
   "cell_type": "code",
   "execution_count": 46,
   "metadata": {
    "colab": {},
    "colab_type": "code",
    "id": "6AEo4Bdqa1I-"
   },
   "outputs": [],
   "source": [
    "# Separating the training data\n",
    "df_train = df.iloc[:df_train.shape[0], :].copy(deep=True)\n",
    "\n",
    "# Separating the validation data\n",
    "df_valid = df.iloc[df_train.shape[0]:df_train.shape[0] + df_valid.shape[0], :].copy(deep=True)\n",
    "\n",
    "# Separating the testing data\n",
    "df_test = df.iloc[df_train.shape[0] + df_valid.shape[0]:, :].copy(deep=True)"
   ]
  },
  {
   "cell_type": "code",
   "execution_count": 47,
   "metadata": {
    "colab": {},
    "colab_type": "code",
    "id": "OSeOvMarQ-KR"
   },
   "outputs": [
    {
     "data": {
      "text/html": [
       "<div>\n",
       "<style scoped>\n",
       "    .dataframe tbody tr th:only-of-type {\n",
       "        vertical-align: middle;\n",
       "    }\n",
       "\n",
       "    .dataframe tbody tr th {\n",
       "        vertical-align: top;\n",
       "    }\n",
       "\n",
       "    .dataframe thead th {\n",
       "        text-align: right;\n",
       "    }\n",
       "</style>\n",
       "<table border=\"1\" class=\"dataframe\">\n",
       "  <thead>\n",
       "    <tr style=\"text-align: right;\">\n",
       "      <th></th>\n",
       "      <th># rows</th>\n",
       "      <th># columns</th>\n",
       "    </tr>\n",
       "  </thead>\n",
       "  <tbody>\n",
       "    <tr>\n",
       "      <th>0</th>\n",
       "      <td>5532</td>\n",
       "      <td>34</td>\n",
       "    </tr>\n",
       "  </tbody>\n",
       "</table>\n",
       "</div>"
      ],
      "text/plain": [
       "   # rows  # columns\n",
       "0    5532         34"
      ]
     },
     "execution_count": 47,
     "metadata": {},
     "output_type": "execute_result"
    }
   ],
   "source": [
    "# Print the dimension of df_remove_train\n",
    "pd.DataFrame([[df_train.shape[0], df_train.shape[1]]], columns=['# rows', '# columns'])"
   ]
  },
  {
   "cell_type": "code",
   "execution_count": 48,
   "metadata": {
    "colab": {},
    "colab_type": "code",
    "id": "sB-RqSl0cPb-"
   },
   "outputs": [
    {
     "data": {
      "text/html": [
       "<div>\n",
       "<style scoped>\n",
       "    .dataframe tbody tr th:only-of-type {\n",
       "        vertical-align: middle;\n",
       "    }\n",
       "\n",
       "    .dataframe tbody tr th {\n",
       "        vertical-align: top;\n",
       "    }\n",
       "\n",
       "    .dataframe thead th {\n",
       "        text-align: right;\n",
       "    }\n",
       "</style>\n",
       "<table border=\"1\" class=\"dataframe\">\n",
       "  <thead>\n",
       "    <tr style=\"text-align: right;\">\n",
       "      <th></th>\n",
       "      <th># rows</th>\n",
       "      <th># columns</th>\n",
       "    </tr>\n",
       "  </thead>\n",
       "  <tbody>\n",
       "    <tr>\n",
       "      <th>0</th>\n",
       "      <td>1383</td>\n",
       "      <td>34</td>\n",
       "    </tr>\n",
       "  </tbody>\n",
       "</table>\n",
       "</div>"
      ],
      "text/plain": [
       "   # rows  # columns\n",
       "0    1383         34"
      ]
     },
     "execution_count": 48,
     "metadata": {},
     "output_type": "execute_result"
    }
   ],
   "source": [
    "# Print the dimension of df_remove_valid\n",
    "pd.DataFrame([[df_valid.shape[0], df_valid.shape[1]]], columns=['# rows', '# columns'])"
   ]
  },
  {
   "cell_type": "code",
   "execution_count": 49,
   "metadata": {
    "colab": {},
    "colab_type": "code",
    "id": "p1alhWLHQ-OX"
   },
   "outputs": [
    {
     "data": {
      "text/html": [
       "<div>\n",
       "<style scoped>\n",
       "    .dataframe tbody tr th:only-of-type {\n",
       "        vertical-align: middle;\n",
       "    }\n",
       "\n",
       "    .dataframe tbody tr th {\n",
       "        vertical-align: top;\n",
       "    }\n",
       "\n",
       "    .dataframe thead th {\n",
       "        text-align: right;\n",
       "    }\n",
       "</style>\n",
       "<table border=\"1\" class=\"dataframe\">\n",
       "  <thead>\n",
       "    <tr style=\"text-align: right;\">\n",
       "      <th></th>\n",
       "      <th># rows</th>\n",
       "      <th># columns</th>\n",
       "    </tr>\n",
       "  </thead>\n",
       "  <tbody>\n",
       "    <tr>\n",
       "      <th>0</th>\n",
       "      <td>2964</td>\n",
       "      <td>34</td>\n",
       "    </tr>\n",
       "  </tbody>\n",
       "</table>\n",
       "</div>"
      ],
      "text/plain": [
       "   # rows  # columns\n",
       "0    2964         34"
      ]
     },
     "execution_count": 49,
     "metadata": {},
     "output_type": "execute_result"
    }
   ],
   "source": [
    "# Print the dimension of df_remove_test\n",
    "pd.DataFrame([[df_test.shape[0], df_test.shape[1]]], columns=['# rows', '# columns'])"
   ]
  },
  {
   "cell_type": "markdown",
   "metadata": {
    "colab_type": "text",
    "id": "7I_suZ4cQb6o"
   },
   "source": [
    "## Getting the name of the features"
   ]
  },
  {
   "cell_type": "code",
   "execution_count": 50,
   "metadata": {
    "colab": {},
    "colab_type": "code",
    "id": "JyTBTbD95X_y"
   },
   "outputs": [],
   "source": [
    "features = np.setdiff1d(df.columns, [target])"
   ]
  },
  {
   "cell_type": "markdown",
   "metadata": {
    "colab_type": "text",
    "id": "JQU71K_FQb6p"
   },
   "source": [
    "## Getting the feature matrix and target vector"
   ]
  },
  {
   "cell_type": "code",
   "execution_count": 51,
   "metadata": {
    "colab": {},
    "colab_type": "code",
    "id": "7jnwGV2W5ZMo"
   },
   "outputs": [],
   "source": [
    "# Get the feature matrix\n",
    "X_train = df_train[features].to_numpy()\n",
    "X_valid = df_valid[features].to_numpy()\n",
    "X_test = df_test[features].to_numpy()\n",
    "\n",
    "# Get the target vector\n",
    "y_train = df_train[target].astype(int).to_numpy()\n",
    "y_valid = df_valid[target].astype(int).to_numpy()"
   ]
  },
  {
   "cell_type": "markdown",
   "metadata": {
    "colab_type": "text",
    "id": "9KqYUNW8Qb6q"
   },
   "source": [
    "## Scaling the data"
   ]
  },
  {
   "cell_type": "code",
   "execution_count": 52,
   "metadata": {
    "colab": {},
    "colab_type": "code",
    "id": "hwPwBpLR5bso"
   },
   "outputs": [],
   "source": [
    "# Implement me\n",
    "from sklearn.preprocessing import StandardScaler\n",
    "\n",
    "# The StandardScaler\n",
    "ss = StandardScaler()\n",
    "\n",
    "# Standardize the training data\n",
    "X_train = ss.fit_transform(X_train)\n",
    "\n",
    "# Standardize the validation data\n",
    "X_valid = ss.transform(X_valid)\n",
    "\n",
    "# Standardize the testing data\n",
    "X_test = ss.transform(X_test)"
   ]
  },
  {
   "cell_type": "markdown",
   "metadata": {
    "colab_type": "text",
    "id": "5BgeibpNXVpy"
   },
   "source": [
    "# Decision Tree"
   ]
  },
  {
   "cell_type": "markdown",
   "metadata": {
    "colab_type": "text",
    "id": "i88C3g7WXVpy"
   },
   "source": [
    "## The Sklearn model"
   ]
  },
  {
   "cell_type": "markdown",
   "metadata": {
    "colab_type": "text",
    "id": "ctPFdLjHXVpy"
   },
   "source": [
    "The code below shows how to train the sklearn decision tree model (on the training data) and use it for prediction (on the validation data)."
   ]
  },
  {
   "cell_type": "code",
   "execution_count": 0,
   "metadata": {
    "colab": {},
    "colab_type": "code",
    "id": "GkZ2rP2QXVpz"
   },
   "outputs": [],
   "source": [
    "from sklearn.tree import DecisionTreeClassifier\n",
    "\n",
    "# The DecisionTreeClassifier\n",
    "dtc = DecisionTreeClassifier(class_weight='balanced', random_state=42)\n",
    "\n",
    "# Train the decision tree classifier on the training data\n",
    "dtc.fit(X_train, y_train)\n",
    "\n",
    "# Get the prediction on the validation data\n",
    "y_valid_pred = dtc.predict(X_valid)"
   ]
  },
  {
   "cell_type": "markdown",
   "metadata": {
    "colab_type": "text",
    "id": "HTFkxKUMXVpz"
   },
   "source": [
    "The code below shows how to get the precision, recall and f-score."
   ]
  },
  {
   "cell_type": "code",
   "execution_count": 0,
   "metadata": {
    "colab": {},
    "colab_type": "code",
    "id": "hNHU2adwXVp0"
   },
   "outputs": [],
   "source": [
    "from sklearn.metrics import precision_recall_fscore_support\n",
    "\n",
    "# Get the precision, recall, f-score and support\n",
    "precision, recall, fscore, support = precision_recall_fscore_support(y_valid, y_valid_pred, average='micro')\n",
    "\n",
    "# Print the precision, recall and f-score\n",
    "pd.DataFrame([[precision, recall, fscore]], columns=['precision', 'recall', 'f-score'])"
   ]
  },
  {
   "cell_type": "markdown",
   "metadata": {
    "colab_type": "text",
    "id": "VLbZwK_OXVp0"
   },
   "source": [
    "## Plot the decision tree\n",
    "You may have to install pydotplus by running the following command:\n",
    "- If you are using anaconda, run\n",
    "    - conda install -c conda-forge pydotplus\n",
    "- Otherwise, run\n",
    "    - pip3 install pydotplus"
   ]
  },
  {
   "cell_type": "markdown",
   "metadata": {
    "colab_type": "text",
    "id": "H-jhadejXVp1"
   },
   "source": [
    "The code below shows how to create the directory for the figures."
   ]
  },
  {
   "cell_type": "code",
   "execution_count": 0,
   "metadata": {
    "colab": {},
    "colab_type": "code",
    "id": "TeyA9SeUXVp1"
   },
   "outputs": [],
   "source": [
    "import os\n",
    "\n",
    "# Make directory\n",
    "directory = os.path.dirname('./figure/')\n",
    "if not os.path.exists(directory):\n",
    "    os.makedirs(directory)"
   ]
  },
  {
   "cell_type": "markdown",
   "metadata": {
    "colab_type": "text",
    "id": "74IaBAItXVp1"
   },
   "source": [
    "The code below shows how to create the dot file of the decision tree."
   ]
  },
  {
   "cell_type": "code",
   "execution_count": 0,
   "metadata": {
    "colab": {},
    "colab_type": "code",
    "id": "t62sCbr8XVp1",
    "scrolled": true
   },
   "outputs": [],
   "source": [
    "from pydotplus import graph_from_dot_data\n",
    "from sklearn.tree import export_graphviz\n",
    "\n",
    "dot_data = export_graphviz(dtc,\n",
    "                           out_file='./figure/tree.dot',\n",
    "                           feature_names=features,\n",
    "                           class_names=np.unique(df_train[target].astype(str)),\n",
    "                           filled=True, \n",
    "                           rounded=True) "
   ]
  },
  {
   "cell_type": "markdown",
   "metadata": {
    "colab_type": "text",
    "id": "PaP3DvPZXVp2"
   },
   "source": [
    "- After generating the tree.dot file, you can generate the tree.pdf file by using the following command:\n",
    "    - dot -Tpdf tree.dot -o tree.pdf\n",
    "\n",
    "- You may have to install graphviz by running the following command:\n",
    "    - If you are using anaconda, run\n",
    "        - conda install -c anaconda graphviz\n",
    "    - Otherwise, run\n",
    "        - pip3 install graphviz"
   ]
  },
  {
   "cell_type": "markdown",
   "metadata": {
    "colab_type": "text",
    "id": "mWP5ZDp3XVp2"
   },
   "source": [
    "## Plot the feature importance"
   ]
  },
  {
   "cell_type": "markdown",
   "metadata": {
    "colab_type": "text",
    "id": "5gtjySsHXVp3"
   },
   "source": [
    "The code below shows how to get the feature importance detected by decision tree."
   ]
  },
  {
   "cell_type": "code",
   "execution_count": 0,
   "metadata": {
    "colab": {},
    "colab_type": "code",
    "id": "t2ZsLMf9XVp3"
   },
   "outputs": [],
   "source": [
    "# Get the dataframe of feature and importance\n",
    "df_fi_dtc = pd.DataFrame(np.hstack((features.reshape(-1, 1), dtc.feature_importances_.reshape(-1, 1))),\n",
    "                         columns=['Features', 'Importance'])\n",
    "\n",
    "# Sort df_fi_dtc in descending order of the importance\n",
    "df_fi_dtc = df_fi_dtc.sort_values(ascending=False, by='Importance').reset_index(drop=True)[0:5]\n",
    "\n",
    "# Print df_fi_dtc\n",
    "df_fi_dtc"
   ]
  },
  {
   "cell_type": "markdown",
   "metadata": {
    "colab_type": "text",
    "id": "sVKDuKuMXVp4"
   },
   "source": [
    "The code below shows how to create the bar plot of feature importance."
   ]
  },
  {
   "cell_type": "code",
   "execution_count": 0,
   "metadata": {
    "colab": {},
    "colab_type": "code",
    "id": "CBkE6mTsXVp4",
    "scrolled": true
   },
   "outputs": [],
   "source": [
    "# Create a figure\n",
    "fig = plt.figure(figsize=(10, 5))\n",
    "\n",
    "# The bar plot of feature importance\n",
    "plt.bar(df_fi_dtc['Features'], df_fi_dtc['Importance'], color='green')\n",
    "\n",
    "# Set x-axis\n",
    "plt.xlabel('Features')\n",
    "\n",
    "# Set y-axis\n",
    "plt.ylabel('Importance')\n",
    "\n",
    "# Save and show the figure\n",
    "plt.tight_layout()\n",
    "plt.savefig('./figure/feature_importance_dtc.pdf')\n",
    "plt.show()"
   ]
  },
  {
   "cell_type": "markdown",
   "metadata": {
    "colab_type": "text",
    "id": "o8UDcrOyXVp5"
   },
   "source": [
    "# Bagging"
   ]
  },
  {
   "cell_type": "markdown",
   "metadata": {
    "colab_type": "text",
    "id": "4BGXNG63XVp5"
   },
   "source": [
    "## Random Forest"
   ]
  },
  {
   "cell_type": "markdown",
   "metadata": {
    "colab_type": "text",
    "id": "qKMiu-QbXVp5"
   },
   "source": [
    "### The Sklearn model"
   ]
  },
  {
   "cell_type": "markdown",
   "metadata": {
    "colab_type": "text",
    "id": "597s5fbJXVp5"
   },
   "source": [
    "The code below shows how to train the sklearn random forest model (on the training data) and use it for prediction (on the validation data)."
   ]
  },
  {
   "cell_type": "code",
   "execution_count": 0,
   "metadata": {
    "colab": {},
    "colab_type": "code",
    "id": "IAtrlsqWXVp5",
    "scrolled": false
   },
   "outputs": [],
   "source": [
    "from sklearn.ensemble import RandomForestClassifier\n",
    "\n",
    "# The RandomForestClassifier\n",
    "rfc = RandomForestClassifier(class_weight='balanced', random_state=42)\n",
    "\n",
    "# Train the random forest classifier on the training data\n",
    "rfc.fit(X_train, y_train)\n",
    "\n",
    "# Get the prediction on the validation data\n",
    "y_valid_pred = rfc.predict(X_valid)"
   ]
  },
  {
   "cell_type": "markdown",
   "metadata": {
    "colab_type": "text",
    "id": "voqnuTlHXVp6"
   },
   "source": [
    "The code below shows how to get the precision, recall and f-score."
   ]
  },
  {
   "cell_type": "code",
   "execution_count": 0,
   "metadata": {
    "colab": {},
    "colab_type": "code",
    "id": "JAO3_pu3XVp6"
   },
   "outputs": [],
   "source": [
    "# Get the precision, recall, f-score and support\n",
    "precision, recall, fscore, support = precision_recall_fscore_support(y_valid, y_valid_pred, average='micro')\n",
    "\n",
    "# Print the precision, recall and f-score\n",
    "pd.DataFrame([[precision, recall, fscore]], columns=['precision', 'recall', 'f-score'])"
   ]
  },
  {
   "cell_type": "markdown",
   "metadata": {
    "colab_type": "text",
    "id": "aM72HILYXVp7"
   },
   "source": [
    "### Plot the feature importance"
   ]
  },
  {
   "cell_type": "markdown",
   "metadata": {
    "colab_type": "text",
    "id": "T2-tTqfCXVp7"
   },
   "source": [
    "The code below shows how to get the feature importance detected by decision tree."
   ]
  },
  {
   "cell_type": "code",
   "execution_count": 0,
   "metadata": {
    "colab": {},
    "colab_type": "code",
    "id": "EfQ4VjF1XVp7"
   },
   "outputs": [],
   "source": [
    "# Get the dataframe of feature and importance\n",
    "df_fi_rfc = pd.DataFrame(np.hstack((features.reshape(-1, 1), rfc.feature_importances_.reshape(-1, 1))),\n",
    "                         columns=['Features', 'Importance'])\n",
    "\n",
    "# Sort df_fi_rfc in descending order of the importance\n",
    "df_fi_rfc = df_fi_rfc.sort_values(ascending=False, by='Importance').reset_index(drop=True)[0:5]\n",
    "\n",
    "# Print df_fi_rfcs\n",
    "df_fi_rfc"
   ]
  },
  {
   "cell_type": "markdown",
   "metadata": {
    "colab_type": "text",
    "id": "vk_BZ4AZXVp8"
   },
   "source": [
    "The code below shows how to create the bar plot of feature importance."
   ]
  },
  {
   "cell_type": "code",
   "execution_count": 0,
   "metadata": {
    "colab": {},
    "colab_type": "code",
    "id": "GG-cR_dEXVp8",
    "scrolled": true
   },
   "outputs": [],
   "source": [
    "# Create a figure\n",
    "fig = plt.figure(figsize=(10, 5))\n",
    "\n",
    "# The bar plot of feature importance\n",
    "plt.bar(df_fi_rfc['Features'], df_fi_rfc['Importance'], color='green')\n",
    "\n",
    "# Set x-axis\n",
    "plt.xlabel('Features')\n",
    "\n",
    "# Set y-axis\n",
    "plt.ylabel('Importance')\n",
    "\n",
    "# Save and show the figure\n",
    "plt.tight_layout()\n",
    "plt.savefig('./figure/feature_importance_rfc.pdf')\n",
    "plt.show()"
   ]
  },
  {
   "cell_type": "markdown",
   "metadata": {
    "colab_type": "text",
    "id": "iRueSeSvXVp9"
   },
   "source": [
    "# Boosting"
   ]
  },
  {
   "cell_type": "markdown",
   "metadata": {
    "colab_type": "text",
    "id": "udWPOaQcXVp9"
   },
   "source": [
    "## Adaboost"
   ]
  },
  {
   "cell_type": "markdown",
   "metadata": {
    "colab_type": "text",
    "id": "4yWBc-QMXVp9"
   },
   "source": [
    "### The Sklearn model"
   ]
  },
  {
   "cell_type": "markdown",
   "metadata": {
    "colab_type": "text",
    "id": "CPoi_lWQXVp9"
   },
   "source": [
    "The code below shows how to train the sklearn Adaboost model (on the training data) and use it for prediction (on the validation data)."
   ]
  },
  {
   "cell_type": "code",
   "execution_count": 0,
   "metadata": {
    "colab": {},
    "colab_type": "code",
    "id": "7EQp_BaoXVp-",
    "scrolled": true
   },
   "outputs": [],
   "source": [
    "from sklearn.ensemble import AdaBoostClassifier\n",
    "\n",
    "# The AdaBoostClassifier\n",
    "abc = AdaBoostClassifier(random_state=42)\n",
    "\n",
    "# Train the Adaboost classifier on the training data\n",
    "abc.fit(X_train, y_train)\n",
    "\n",
    "# Get the prediction on the validation data\n",
    "y_valid_pred = abc.predict(X_valid)"
   ]
  },
  {
   "cell_type": "markdown",
   "metadata": {
    "colab_type": "text",
    "id": "6jQekyJFXVp-"
   },
   "source": [
    "The code below shows how to get the precision, recall and f-score."
   ]
  },
  {
   "cell_type": "code",
   "execution_count": 0,
   "metadata": {
    "colab": {},
    "colab_type": "code",
    "id": "2ZI8Xyq-XVp-"
   },
   "outputs": [],
   "source": [
    "# Get the precision, recall, f-score and support\n",
    "precision, recall, fscore, support = precision_recall_fscore_support(y_valid, y_valid_pred, average='micro')\n",
    "\n",
    "# Print the precision, recall and f-score\n",
    "pd.DataFrame([[precision, recall, fscore]], columns=['precision', 'recall', 'f-score'])"
   ]
  },
  {
   "cell_type": "markdown",
   "metadata": {
    "colab_type": "text",
    "id": "VHsoPR0jXVp_"
   },
   "source": [
    "## Gradient Boosting"
   ]
  },
  {
   "cell_type": "markdown",
   "metadata": {
    "colab_type": "text",
    "id": "MVGKcpF7XVp_"
   },
   "source": [
    "### The Sklearn model"
   ]
  },
  {
   "cell_type": "markdown",
   "metadata": {
    "colab_type": "text",
    "id": "7hdevfWwXVp_"
   },
   "source": [
    "The code below shows how to train the sklearn histogram-based gradient boosting classifier (on the training data) and use it for prediction (on the validation data)."
   ]
  },
  {
   "cell_type": "code",
   "execution_count": 0,
   "metadata": {
    "colab": {},
    "colab_type": "code",
    "id": "GeIq167gXVqA",
    "scrolled": true
   },
   "outputs": [],
   "source": [
    "from sklearn.experimental import enable_hist_gradient_boosting\n",
    "from sklearn.ensemble import HistGradientBoostingClassifier\n",
    "\n",
    "# The HistGradientBoostingClassifier\n",
    "hgbc = HistGradientBoostingClassifier(random_state=42)\n",
    "\n",
    "# Train the histogram-based gradient boosting classifier on the training data\n",
    "hgbc.fit(X_train, y_train)\n",
    "\n",
    "# Get the prediction on the validation data\n",
    "y_valid_pred = hgbc.predict(X_valid)"
   ]
  },
  {
   "cell_type": "markdown",
   "metadata": {
    "colab_type": "text",
    "id": "_cLSygFPXVqA"
   },
   "source": [
    "The code below shows how to get the precision, recall and f-score."
   ]
  },
  {
   "cell_type": "code",
   "execution_count": 0,
   "metadata": {
    "colab": {},
    "colab_type": "code",
    "id": "j9dQcVr_XVqB"
   },
   "outputs": [],
   "source": [
    "# Get the precision, recall, f-score and support\n",
    "precision, recall, fscore, support = precision_recall_fscore_support(y_valid, y_valid_pred, average='micro')\n",
    "\n",
    "# Print the precision, recall and f-score\n",
    "pd.DataFrame([[precision, recall, fscore]], columns=['precision', 'recall', 'f-score'])"
   ]
  },
  {
   "cell_type": "markdown",
   "metadata": {
    "colab_type": "text",
    "id": "nHmWfygoXVqC"
   },
   "source": [
    "### The XGBoost model\n",
    "You may have to install XGBoost by running the following command:\n",
    "- If you are using anaconda, run\n",
    "    - conda install -c conda-forge xgboost\n",
    "- Otherwise, run\n",
    "    - pip3 install xgboost"
   ]
  },
  {
   "cell_type": "markdown",
   "metadata": {
    "colab_type": "text",
    "id": "VVIHQEOxXVqC"
   },
   "source": [
    "The code below shows how to train the XGBoost model (on the training data) and use it for prediction (on the validation data)."
   ]
  },
  {
   "cell_type": "code",
   "execution_count": 0,
   "metadata": {
    "colab": {},
    "colab_type": "code",
    "id": "M36rtObAXVqC",
    "scrolled": true
   },
   "outputs": [],
   "source": [
    "from xgboost.sklearn import XGBClassifier\n",
    "\n",
    "# The XGBClassifier\n",
    "xgbc = XGBClassifier(random_state=42)\n",
    "\n",
    "# Train the XGBClassifier on the training data\n",
    "xgbc.fit(X_train, y_train)\n",
    "\n",
    "# Get the prediction on the validation data\n",
    "y_valid_pred = xgbc.predict(X_valid)"
   ]
  },
  {
   "cell_type": "markdown",
   "metadata": {
    "colab_type": "text",
    "id": "7vNMgXGsXVqD"
   },
   "source": [
    "The code below shows how to get the precision, recall and f-score."
   ]
  },
  {
   "cell_type": "code",
   "execution_count": 0,
   "metadata": {
    "colab": {},
    "colab_type": "code",
    "id": "F3PORhPvXVqD"
   },
   "outputs": [],
   "source": [
    "# Get the precision, recall, f-score and support\n",
    "precision, recall, fscore, support = precision_recall_fscore_support(y_valid, y_valid_pred, average='micro')\n",
    "\n",
    "# Print the precision, recall and f-score\n",
    "pd.DataFrame([[precision, recall, fscore]], columns=['precision', 'recall', 'f-score'])"
   ]
  },
  {
   "cell_type": "markdown",
   "metadata": {
    "colab_type": "text",
    "id": "yIFwtIjpXVqE"
   },
   "source": [
    "# Stacking"
   ]
  },
  {
   "cell_type": "markdown",
   "metadata": {
    "colab_type": "text",
    "id": "zKO_a9wLXVqE"
   },
   "source": [
    "## The Sklearn model (0.22 or above)"
   ]
  },
  {
   "cell_type": "markdown",
   "metadata": {
    "colab_type": "text",
    "id": "4mrBg1TsXVqE"
   },
   "source": [
    "The code below shows how to train the sklearn stacking model (on the training data) and use it for prediction (on the validation data)."
   ]
  },
  {
   "cell_type": "code",
   "execution_count": 0,
   "metadata": {
    "colab": {},
    "colab_type": "code",
    "id": "a-MSIBGBXVqE"
   },
   "outputs": [],
   "source": [
    "from sklearn.ensemble import StackingClassifier\n",
    "\n",
    "# The base estimators \n",
    "estimators = [('dtc', DecisionTreeClassifier(class_weight='balanced', random_state=42)),\n",
    "              ('rfc', RandomForestClassifier(class_weight='balanced', random_state=42)),\n",
    "              ('abc', AdaBoostClassifier(random_state=42))]\n",
    "\n",
    "# The StackingClassifier\n",
    "sc = StackingClassifier(estimators=estimators, final_estimator=XGBClassifier(random_state=42))\n",
    "\n",
    "# Train the StackingClassifier on the training data\n",
    "sc.fit(X_train, y_train)\n",
    "\n",
    "# Get the prediction on the validation data\n",
    "y_valid_pred = sc.predict(X_valid)"
   ]
  },
  {
   "cell_type": "markdown",
   "metadata": {
    "colab_type": "text",
    "id": "lAni5PVUXVqF"
   },
   "source": [
    "The code below shows how to get the precision, recall and f-score."
   ]
  },
  {
   "cell_type": "code",
   "execution_count": 0,
   "metadata": {
    "colab": {},
    "colab_type": "code",
    "id": "V9DQXlm7XVqF"
   },
   "outputs": [],
   "source": [
    "# Get the precision, recall, f-score and support\n",
    "precision, recall, fscore, support = precision_recall_fscore_support(y_valid, y_valid_pred, average='micro')\n",
    "\n",
    "# Print the precision, recall and f-score\n",
    "pd.DataFrame([[precision, recall, fscore]], columns=['precision', 'recall', 'f-score'])"
   ]
  },
  {
   "cell_type": "markdown",
   "metadata": {
    "colab_type": "text",
    "id": "A7AtBmguXVqG"
   },
   "source": [
    "# Hyperparameter Tuning and Model Selection"
   ]
  },
  {
   "cell_type": "markdown",
   "metadata": {
    "colab_type": "text",
    "id": "8rwilWzWXVqG"
   },
   "source": [
    "## Creating the dictionary of the models\n",
    "- In the dictionary:\n",
    "    - the key is the acronym of the model\n",
    "    - the value is the model"
   ]
  },
  {
   "cell_type": "code",
   "execution_count": 0,
   "metadata": {
    "colab": {},
    "colab_type": "code",
    "id": "E5r24LToXVqG"
   },
   "outputs": [],
   "source": [
    "from sklearn.linear_model import LogisticRegression\n",
    "\n",
    "models = {'lr': LogisticRegression(class_weight='balanced', random_state=42),\n",
    "          'dtc': DecisionTreeClassifier(class_weight='balanced', random_state=42),\n",
    "          'rfc': RandomForestClassifier(class_weight='balanced', random_state=42),\n",
    "          'hgbc': HistGradientBoostingClassifier(random_state=42),\n",
    "          'xgbc': XGBClassifier(seed=42)}"
   ]
  },
  {
   "cell_type": "markdown",
   "metadata": {
    "colab_type": "text",
    "id": "sTPSffbSXVqH"
   },
   "source": [
    "## Creating the dictionary of the pipelines\n",
    "In the dictionary:\n",
    "- the key is the acronym of the model\n",
    "- the value is the pipeline, which, for now, only includes the model"
   ]
  },
  {
   "cell_type": "code",
   "execution_count": 0,
   "metadata": {
    "colab": {},
    "colab_type": "code",
    "id": "LVVzKBunXVqH"
   },
   "outputs": [],
   "source": [
    "from sklearn.pipeline import Pipeline\n",
    "\n",
    "pipes = {}\n",
    "\n",
    "for acronym, model in models.items():\n",
    "    pipes[acronym] = Pipeline([('model', model)])"
   ]
  },
  {
   "cell_type": "markdown",
   "metadata": {
    "colab_type": "text",
    "id": "JVr_o4CXXVqI"
   },
   "source": [
    "## Hyperparameter tuning and model selection using Sklearn (0.22 or above)"
   ]
  },
  {
   "cell_type": "markdown",
   "metadata": {
    "colab_type": "text",
    "id": "Hu4qZfYSXVqJ"
   },
   "source": [
    "### Getting the predefined split cross-validator"
   ]
  },
  {
   "cell_type": "code",
   "execution_count": 0,
   "metadata": {
    "colab": {},
    "colab_type": "code",
    "id": "ETUKGoLiXVqJ",
    "scrolled": true
   },
   "outputs": [],
   "source": [
    "from sklearn.model_selection import PredefinedSplit\n",
    "\n",
    "# Combine the feature matrix in the training and validation data\n",
    "X_train_valid = np.vstack((X_train, X_valid))\n",
    "\n",
    "# Combine the target vector in the training and validation data\n",
    "y_train_valid = np.append(y_train, y_valid)\n",
    "\n",
    "# Get the indices of training and validation data\n",
    "train_valid_idxs = np.append(np.full(X_train.shape[0], -1), np.full(X_valid.shape[0], 0))\n",
    "\n",
    "# The PredefinedSplit\n",
    "ps = PredefinedSplit(train_valid_idxs)"
   ]
  },
  {
   "cell_type": "markdown",
   "metadata": {
    "colab_type": "text",
    "id": "IivQOp4wXVqK"
   },
   "source": [
    "### Creating the dictionary of the parameter grids\n",
    "- In the dictionary:\n",
    "    - the key is the acronym of the model\n",
    "    - the value is the parameter grid of the model"
   ]
  },
  {
   "cell_type": "code",
   "execution_count": 0,
   "metadata": {
    "colab": {},
    "colab_type": "code",
    "id": "0Z79F4sXXVqK"
   },
   "outputs": [],
   "source": [
    "param_grids = {}"
   ]
  },
  {
   "cell_type": "markdown",
   "metadata": {
    "colab_type": "text",
    "id": "QWyuaV3lXVqL"
   },
   "source": [
    "#### The parameter grid for logistic regression\n",
    "The hyperparameters we want to fine-tune are:\n",
    "- C\n",
    "- tol\n",
    "\n",
    "See details of the meaning of the hyperparametes in [sklearn.linear_model.LogisticRegression](https://scikit-learn.org/stable/modules/generated/sklearn.linear_model.LogisticRegression.html)"
   ]
  },
  {
   "cell_type": "code",
   "execution_count": 0,
   "metadata": {
    "colab": {},
    "colab_type": "code",
    "id": "fymookJcXVqL"
   },
   "outputs": [],
   "source": [
    "# The grids for C\n",
    "C_grids = [10 ** i for i in range(-2, 3)]\n",
    "\n",
    "# The grids for tol\n",
    "tol_grids = [10 ** i for i in range(-6, -1)]\n",
    "\n",
    "# Update param_grids\n",
    "param_grids['lr'] = [{'model__C': C_grids,\n",
    "                      'model__tol': tol_grids}]"
   ]
  },
  {
   "cell_type": "markdown",
   "metadata": {
    "colab_type": "text",
    "id": "S03JO9z4XVqL"
   },
   "source": [
    "#### The parameter grid for decision tree\n",
    "The hyperparameters we want to fine-tune are:\n",
    "- min_samples_split\n",
    "- min_samples_leaf\n",
    "\n",
    "See details of the meaning of the hyperparametes in [sklearn.tree.DecisionTreeClassifier](https://scikit-learn.org/stable/modules/generated/sklearn.tree.DecisionTreeClassifier.html#sklearn.tree.DecisionTreeClassifier)"
   ]
  },
  {
   "cell_type": "code",
   "execution_count": 0,
   "metadata": {
    "colab": {},
    "colab_type": "code",
    "id": "IA_mbf9YXVqL"
   },
   "outputs": [],
   "source": [
    "# The grids for min_samples_split\n",
    "min_samples_split_grids = [2, 20, 100]\n",
    "\n",
    "# The grids for min_samples_leaf\n",
    "min_samples_leaf_grids = [1, 20, 100]\n",
    "\n",
    "# Update param_grids\n",
    "param_grids['dtc'] = [{'model__min_samples_split': min_samples_split_grids,\n",
    "                       'model__min_samples_leaf': min_samples_leaf_grids}]"
   ]
  },
  {
   "cell_type": "markdown",
   "metadata": {
    "colab_type": "text",
    "id": "guuHI5wtXVqM"
   },
   "source": [
    "#### The parameter grid for random forest\n",
    "The hyperparameters we want to fine-tune are:\n",
    "- min_samples_split\n",
    "- min_samples_leaf\n",
    "\n",
    "See details of the meaning of the hyperparametes in [sklearn.ensemble.RandomForestClassifier](https://scikit-learn.org/stable/modules/generated/sklearn.ensemble.RandomForestClassifier.html)"
   ]
  },
  {
   "cell_type": "code",
   "execution_count": 0,
   "metadata": {
    "colab": {},
    "colab_type": "code",
    "id": "bfXpC0oXXVqM"
   },
   "outputs": [],
   "source": [
    "# The grids for min_samples_split\n",
    "min_samples_split_grids = [2, 20, 100]\n",
    "\n",
    "# The grids for min_samples_leaf\n",
    "min_samples_leaf_grids = [1, 20, 100]\n",
    "\n",
    "# Update param_grids\n",
    "param_grids['rfc'] = [{'model__min_samples_split': min_samples_split_grids,\n",
    "                       'model__min_samples_leaf': min_samples_leaf_grids}]"
   ]
  },
  {
   "cell_type": "markdown",
   "metadata": {
    "colab_type": "text",
    "id": "A9T0zOnuXVqN"
   },
   "source": [
    "#### The parameter grid for Adaboost\n",
    "The hyperparameters we want to fine-tune are:\n",
    "- learning_rate\n",
    "\n",
    "See details of the meaning of the hyperparametes in [sklearn.ensemble.AdaBoostClassifier](https://scikit-learn.org/stable/modules/generated/sklearn.ensemble.AdaBoostClassifier.html)"
   ]
  },
  {
   "cell_type": "code",
   "execution_count": 0,
   "metadata": {
    "colab": {},
    "colab_type": "code",
    "id": "94x3Fr_dXVqN"
   },
   "outputs": [],
   "source": [
    "# The grids for learning_rate\n",
    "learning_rate_grids = [10 ** i for i in range(-3, 2)]\n",
    "\n",
    "# Update param_grids\n",
    "param_grids['abc'] = [{'model__learning_rate': learning_rate_grids}]"
   ]
  },
  {
   "cell_type": "markdown",
   "metadata": {
    "colab_type": "text",
    "id": "44pojWGrXVqO"
   },
   "source": [
    "#### The parameter grid for histogram-based gradient boosting\n",
    "The hyperparameters we want to fine-tune are:\n",
    "- learning_rate\n",
    "- min_samples_leaf\n",
    "\n",
    "See details of the meaning of the hyperparametes in [sklearn.ensemble.HistGradientBoostingClassifier](https://scikit-learn.org/stable/modules/generated/sklearn.ensemble.HistGradientBoostingClassifier.html)"
   ]
  },
  {
   "cell_type": "code",
   "execution_count": 0,
   "metadata": {
    "colab": {},
    "colab_type": "code",
    "id": "2t6FIlTWXVqO"
   },
   "outputs": [],
   "source": [
    "# The grids for learning_rate\n",
    "learning_rate_grids = [10 ** i for i in range(-3, 2)]\n",
    "\n",
    "# The grids for min_samples_leaf\n",
    "min_samples_leaf_grids = [1, 20, 100]\n",
    "\n",
    "# Update param_grids\n",
    "param_grids['hgbc'] = [{'model__learning_rate': learning_rate_grids,\n",
    "                        'model__min_samples_leaf': min_samples_leaf_grids}]"
   ]
  },
  {
   "cell_type": "markdown",
   "metadata": {
    "colab_type": "text",
    "id": "T-Py6JwlXVqO"
   },
   "source": [
    "#### The parameter grid for xgboost\n",
    "The hyperparameters we want to fine-tune are:\n",
    "- eta\n",
    "- gamma\n",
    "- lambda\n",
    "\n",
    "See details of the meaning of the hyperparametes in [XGBoost Parameters](https://xgboost.readthedocs.io/en/latest/parameter.html)"
   ]
  },
  {
   "cell_type": "code",
   "execution_count": 0,
   "metadata": {
    "colab": {},
    "colab_type": "code",
    "id": "ClWZIScxXVqO"
   },
   "outputs": [],
   "source": [
    "# The grids for eta\n",
    "eta_grids = [10 ** i for i in range(-4, 1)]\n",
    "\n",
    "# The grids for gamma\n",
    "gamma_grids = [0, 10, 100]\n",
    "\n",
    "# The grids for lambda\n",
    "lambda_grids = [10 ** i for i in range(-4, 5)]\n",
    "\n",
    "# Update param_grids\n",
    "param_grids['xgbc'] = [{'model__eta': eta_grids,\n",
    "                        'model__gamma': gamma_grids,\n",
    "                        'model__lambda': lambda_grids}]"
   ]
  },
  {
   "cell_type": "markdown",
   "metadata": {
    "colab_type": "text",
    "id": "fVosQSSNXVqP"
   },
   "source": [
    "### Creating the directory for the cv results."
   ]
  },
  {
   "cell_type": "code",
   "execution_count": 0,
   "metadata": {
    "colab": {},
    "colab_type": "code",
    "id": "eEnC2U4oXVqP"
   },
   "outputs": [],
   "source": [
    "import os\n",
    "\n",
    "# Make directory\n",
    "directory = os.path.dirname('./cv_results/')\n",
    "if not os.path.exists(directory):\n",
    "    os.makedirs(directory)"
   ]
  },
  {
   "cell_type": "markdown",
   "metadata": {
    "colab_type": "text",
    "id": "UvZNuMoLXVqQ"
   },
   "source": [
    "### Hyperparameter tuning\n",
    "The code below shows how to fine-tune the hyperparameters of the models above (using sklearn GridSearchCV)."
   ]
  },
  {
   "cell_type": "code",
   "execution_count": 0,
   "metadata": {
    "colab": {},
    "colab_type": "code",
    "id": "gtSPSEmWXVqQ"
   },
   "outputs": [],
   "source": [
    "from sklearn.model_selection import GridSearchCV\n",
    "\n",
    "# The list of [best_score_, best_params_, best_estimator_] obtained by GridSearchCV\n",
    "best_score_param_estimator_gs = []\n",
    "\n",
    "for acronym in pipes.keys():\n",
    "    # GridSearchCV\n",
    "    gs = GridSearchCV(estimator=pipes[acronym],\n",
    "                      param_grid=param_grids[acronym],\n",
    "                      scoring='f1_micro',\n",
    "                      n_jobs=2,\n",
    "                      cv=ps,\n",
    "                      return_train_score=True)\n",
    "        \n",
    "    # Fit the pipeline\n",
    "    gs = gs.fit(X_train_valid, y_train_valid)\n",
    "    \n",
    "    # Update best_score_param_estimator_gs\n",
    "    best_score_param_estimator_gs.append([gs.best_score_, gs.best_params_, gs.best_estimator_])\n",
    "    \n",
    "    # Sort cv_results in ascending order of 'rank_test_score' and 'std_test_score'\n",
    "    cv_results = pd.DataFrame.from_dict(gs.cv_results_).sort_values(by=['rank_test_score', 'std_test_score'])\n",
    "    \n",
    "    # Get the important columns in cv_results\n",
    "    important_columns = ['rank_test_score',\n",
    "                         'mean_test_score', \n",
    "                         'std_test_score', \n",
    "                         'mean_train_score', \n",
    "                         'std_train_score',\n",
    "                         'mean_fit_time', \n",
    "                         'std_fit_time',                        \n",
    "                         'mean_score_time', \n",
    "                         'std_score_time']\n",
    "    \n",
    "    # Move the important columns ahead\n",
    "    cv_results = cv_results[important_columns + sorted(list(set(cv_results.columns) - set(important_columns)))]\n",
    "\n",
    "    # Write cv_results file\n",
    "    cv_results.to_csv(path_or_buf='./cv_results/' + acronym + '.csv', index=False)"
   ]
  },
  {
   "cell_type": "markdown",
   "metadata": {
    "colab_type": "text",
    "id": "2cg0ACeBXVqR"
   },
   "source": [
    "### Model selection"
   ]
  },
  {
   "cell_type": "code",
   "execution_count": 0,
   "metadata": {
    "colab": {},
    "colab_type": "code",
    "id": "vjT5lcqaXVqR",
    "scrolled": false
   },
   "outputs": [],
   "source": [
    "# Sort best_score_param_estimator_gs in descending order of the best_score_\n",
    "best_score_param_estimator_gs = sorted(best_score_param_estimator_gs, key=lambda x : x[0], reverse=True)\n",
    "\n",
    "# Print best_score_param_estimator_gs\n",
    "pd.DataFrame(best_score_param_estimator_gs, columns=['best_score', 'best_param', 'best_estimator'])"
   ]
  },
  {
   "cell_type": "code",
   "execution_count": 0,
   "metadata": {
    "colab": {},
    "colab_type": "code",
    "id": "lyfmsjlEXVqR"
   },
   "outputs": [],
   "source": [
    "# Get the best_score, best_param and best_estimator obtained by GridSearchCV\n",
    "best_score_gs, best_param_gs, best_estimator_gs = best_score_param_estimator_gs[0]"
   ]
  },
  {
   "cell_type": "code",
   "execution_count": 0,
   "metadata": {
    "colab": {},
    "colab_type": "code",
    "id": "qswq3lHp5rA8"
   },
   "outputs": [],
   "source": [
    "best_score_param_estimator_gs[0]"
   ]
  },
  {
   "cell_type": "code",
   "execution_count": 0,
   "metadata": {
    "colab": {},
    "colab_type": "code",
    "id": "D_eui1FnR0-U"
   },
   "outputs": [],
   "source": [
    "import torch.nn as nn\n",
    "pred_list = []\n",
    "for bcpeg in best_score_param_estimator_gs:\n",
    "  s,p,estimator = bcpeg\n",
    "  pred_list.append(estimator.predict(X_test))"
   ]
  },
  {
   "cell_type": "code",
   "execution_count": 0,
   "metadata": {
    "colab": {},
    "colab_type": "code",
    "id": "I_3LN_OfXVqS",
    "scrolled": true
   },
   "outputs": [],
   "source": [
    "# Get the prediction on the testing data using best_model\n",
    "y_test_pred = best_estimator_gs.predict(X_test)\n",
    "\n",
    "# Transform y_test_pred back to the original class\n",
    "y_test_pred = le.inverse_transform(y_test_pred)\n",
    "\n",
    "# Get the submission dataframe\n",
    "df_submit = pd.DataFrame(np.hstack((np.arange(1, y_test_pred.shape[0] + 1).reshape(-1, 1), y_test_pred.reshape(-1, 1))),\n",
    "                         columns=['id', target])                                                                                      \n",
    "\n",
    "# Generate the submission file\n",
    "df_submit.to_csv('submission.csv', index=False)"
   ]
  },
  {
   "cell_type": "markdown",
   "metadata": {
    "colab_type": "text",
    "id": "_oqpcQvhPp7j"
   },
   "source": [
    "# MLP"
   ]
  },
  {
   "cell_type": "code",
   "execution_count": 0,
   "metadata": {
    "colab": {},
    "colab_type": "code",
    "id": "sOX065IzuSu4"
   },
   "outputs": [],
   "source": [
    "#imports\n",
    "from keras.models import Sequential, Model\n",
    "from keras.layers import Conv1D, MaxPool1D, Dense, Dropout, Flatten,AvgPool1D, \\\n",
    "BatchNormalization, Input, concatenate, Activation\n",
    "from keras.optimizers import Adam\n",
    "from keras.callbacks import ModelCheckpoint\n",
    "from keras.callbacks import EarlyStopping\n",
    "from keras.models import load_model as lm\n",
    "from sklearn.metrics import cohen_kappa_score, f1_score\n",
    "from sklearn.metrics import classification_report"
   ]
  },
  {
   "cell_type": "code",
   "execution_count": 0,
   "metadata": {
    "colab": {
     "base_uri": "https://localhost:8080/",
     "height": 1000
    },
    "colab_type": "code",
    "executionInfo": {
     "elapsed": 91565,
     "status": "ok",
     "timestamp": 1588126989738,
     "user": {
      "displayName": "Zhilin Wang",
      "photoUrl": "https://lh3.googleusercontent.com/a-/AOh14GhhIeEJIxOMD4YHK51w_esnK3UaDkTvIpTHUfeY=s64",
      "userId": "00962311773677700245"
     },
     "user_tz": 240
    },
    "id": "qUrMiEw8_PMP",
    "outputId": "bf830ade-0af6-4489-cb7d-c48d89ad33ae"
   },
   "outputs": [
    {
     "name": "stdout",
     "output_type": "stream",
     "text": [
      "Train on 5532 samples, validate on 1383 samples\n",
      "Epoch 1/50\n",
      "5532/5532 [==============================] - 1s 108us/step - loss: 0.5853 - accuracy: 0.6922 - val_loss: 0.5535 - val_accuracy: 0.7346\n",
      "\n",
      "Epoch 00001: val_loss improved from -inf to 0.55355, saving model to MLP.h5\n",
      "Epoch 2/50\n",
      "5532/5532 [==============================] - 0s 49us/step - loss: 0.5462 - accuracy: 0.7251 - val_loss: 0.5357 - val_accuracy: 0.7339\n",
      "\n",
      "Epoch 00002: val_loss did not improve from 0.55355\n",
      "Epoch 3/50\n",
      "5532/5532 [==============================] - 0s 49us/step - loss: 0.5404 - accuracy: 0.7287 - val_loss: 0.5407 - val_accuracy: 0.7223\n",
      "\n",
      "Epoch 00003: val_loss did not improve from 0.55355\n",
      "Epoch 4/50\n",
      "5532/5532 [==============================] - 0s 51us/step - loss: 0.5412 - accuracy: 0.7287 - val_loss: 0.5404 - val_accuracy: 0.7317\n",
      "\n",
      "Epoch 00004: val_loss did not improve from 0.55355\n",
      "Epoch 5/50\n",
      "5532/5532 [==============================] - 0s 50us/step - loss: 0.5341 - accuracy: 0.7334 - val_loss: 0.5386 - val_accuracy: 0.7260\n",
      "\n",
      "Epoch 00005: val_loss did not improve from 0.55355\n",
      "Epoch 6/50\n",
      "5532/5532 [==============================] - 0s 49us/step - loss: 0.5356 - accuracy: 0.7272 - val_loss: 0.5413 - val_accuracy: 0.7354\n",
      "\n",
      "Epoch 00006: val_loss did not improve from 0.55355\n",
      "Epoch 7/50\n",
      "5532/5532 [==============================] - 0s 51us/step - loss: 0.5328 - accuracy: 0.7336 - val_loss: 0.5370 - val_accuracy: 0.7339\n",
      "\n",
      "Epoch 00007: val_loss did not improve from 0.55355\n",
      "Epoch 8/50\n",
      "5532/5532 [==============================] - 0s 50us/step - loss: 0.5343 - accuracy: 0.7364 - val_loss: 0.5401 - val_accuracy: 0.7245\n",
      "\n",
      "Epoch 00008: val_loss did not improve from 0.55355\n",
      "Epoch 9/50\n",
      "5532/5532 [==============================] - 0s 49us/step - loss: 0.5251 - accuracy: 0.7399 - val_loss: 0.5419 - val_accuracy: 0.7238\n",
      "\n",
      "Epoch 00009: val_loss did not improve from 0.55355\n",
      "Epoch 10/50\n",
      "5532/5532 [==============================] - 0s 49us/step - loss: 0.5226 - accuracy: 0.7350 - val_loss: 0.5481 - val_accuracy: 0.7216\n",
      "\n",
      "Epoch 00010: val_loss did not improve from 0.55355\n",
      "Epoch 11/50\n",
      "5532/5532 [==============================] - 0s 50us/step - loss: 0.5226 - accuracy: 0.7370 - val_loss: 0.5486 - val_accuracy: 0.7252\n",
      "\n",
      "Epoch 00011: val_loss did not improve from 0.55355\n",
      "Epoch 12/50\n",
      "5532/5532 [==============================] - 0s 49us/step - loss: 0.5216 - accuracy: 0.7377 - val_loss: 0.5463 - val_accuracy: 0.7317\n",
      "\n",
      "Epoch 00012: val_loss did not improve from 0.55355\n",
      "Epoch 13/50\n",
      "5532/5532 [==============================] - 0s 49us/step - loss: 0.5205 - accuracy: 0.7406 - val_loss: 0.5496 - val_accuracy: 0.7267\n",
      "\n",
      "Epoch 00013: val_loss did not improve from 0.55355\n",
      "Epoch 14/50\n",
      "5532/5532 [==============================] - 0s 49us/step - loss: 0.5168 - accuracy: 0.7482 - val_loss: 0.5472 - val_accuracy: 0.7274\n",
      "\n",
      "Epoch 00014: val_loss did not improve from 0.55355\n",
      "Epoch 15/50\n",
      "5532/5532 [==============================] - 0s 49us/step - loss: 0.5135 - accuracy: 0.7437 - val_loss: 0.5493 - val_accuracy: 0.7245\n",
      "\n",
      "Epoch 00015: val_loss did not improve from 0.55355\n",
      "Epoch 16/50\n",
      "5532/5532 [==============================] - 0s 50us/step - loss: 0.5115 - accuracy: 0.7482 - val_loss: 0.5510 - val_accuracy: 0.7223\n",
      "\n",
      "Epoch 00016: val_loss did not improve from 0.55355\n",
      "Epoch 17/50\n",
      "5532/5532 [==============================] - 0s 49us/step - loss: 0.5074 - accuracy: 0.7520 - val_loss: 0.5514 - val_accuracy: 0.7216\n",
      "\n",
      "Epoch 00017: val_loss did not improve from 0.55355\n",
      "Epoch 18/50\n",
      "5532/5532 [==============================] - 0s 49us/step - loss: 0.5049 - accuracy: 0.7477 - val_loss: 0.5513 - val_accuracy: 0.7187\n",
      "\n",
      "Epoch 00018: val_loss did not improve from 0.55355\n",
      "Epoch 19/50\n",
      "5532/5532 [==============================] - 0s 50us/step - loss: 0.5063 - accuracy: 0.7543 - val_loss: 0.5513 - val_accuracy: 0.7223\n",
      "\n",
      "Epoch 00019: val_loss did not improve from 0.55355\n",
      "Epoch 20/50\n",
      "5532/5532 [==============================] - 0s 50us/step - loss: 0.4977 - accuracy: 0.7608 - val_loss: 0.5525 - val_accuracy: 0.7122\n",
      "\n",
      "Epoch 00020: val_loss did not improve from 0.55355\n",
      "Epoch 21/50\n",
      "5532/5532 [==============================] - 0s 49us/step - loss: 0.4989 - accuracy: 0.7596 - val_loss: 0.5560 - val_accuracy: 0.7108\n",
      "\n",
      "Epoch 00021: val_loss improved from 0.55355 to 0.55603, saving model to MLP.h5\n",
      "Epoch 22/50\n",
      "5532/5532 [==============================] - 0s 49us/step - loss: 0.4956 - accuracy: 0.7578 - val_loss: 0.5654 - val_accuracy: 0.7043\n",
      "\n",
      "Epoch 00022: val_loss improved from 0.55603 to 0.56535, saving model to MLP.h5\n",
      "Epoch 00022: early stopping\n"
     ]
    },
    {
     "data": {
      "image/png": "[encoded data removed]",
      "text/plain": [
       "<Figure size 432x288 with 1 Axes>"
      ]
     },
     "metadata": {
      "tags": []
     },
     "output_type": "display_data"
    },
    {
     "name": "stdout",
     "output_type": "stream",
     "text": [
      "              precision    recall  f1-score   support\n",
      "\n",
      "           0       0.70      0.75      0.72      1480\n",
      "           1       0.73      0.67      0.70      1484\n",
      "\n",
      "    accuracy                           0.71      2964\n",
      "   macro avg       0.71      0.71      0.71      2964\n",
      "weighted avg       0.71      0.71      0.71      2964\n",
      "\n",
      "0.713225371120108\n"
     ]
    }
   ],
   "source": [
    "#model\n",
    "model = Sequential()\n",
    "model.add(Dense(128, input_dim=33, activation='relu'))\n",
    "model.add(Dropout(0.25))\n",
    "model.add(Dense(200, activation='relu'))\n",
    "model.add(Dropout(0.25))\n",
    "model.add(Dense(300, activation='relu'))\n",
    "model.add(Dropout(0.25))\n",
    "model.add(Dense(400, activation='relu'))\n",
    "model.add(Dropout(0.25))\n",
    "model.add(Dense(300, activation='relu'))\n",
    "model.add(Dropout(0.25))\n",
    "model.add(Dense(100, activation='relu'))\n",
    "model.add(Dropout(0.25))\n",
    "model.add(Dense(1, activation = 'sigmoid'))\n",
    "model.compile(loss='binary_crossentropy', optimizer='adam', metrics=['accuracy'])\n",
    "\n",
    "# simple early stopping\n",
    "es = EarlyStopping(monitor='val_loss', mode='min', verbose=1, patience=20)\n",
    "mc = ModelCheckpoint('MLP.h5', monitor='val_loss', mode='max', verbose=1, save_best_only=True)\n",
    "# fit model\n",
    "history = model.fit(X_train, y_train, validation_data=(X_valid, y_valid), batch_size=100, epochs=50, class_weight='auto',\n",
    "            callbacks=[es, mc])\n",
    "\n",
    "# plot loss\n",
    "plt.style.use('ggplot')\n",
    "plt.figure()\n",
    "plt.plot(history.history['loss'])\n",
    "plt.plot(history.history['val_loss'])\n",
    "plt.title('MLP Model loss')\n",
    "plt.ylabel('Loss')\n",
    "plt.xlabel('Epoch')\n",
    "plt.legend(['Train', 'Test'], loc='upper left')\n",
    "plt.show()\n",
    "\n",
    "#check the mlp model results\n",
    "y_test = df_test.iloc[:,:1].values\n",
    "model = lm('MLP.h5')\n",
    "y_pred = model.predict(X_test)\n",
    "threshold = 0.5\n",
    "print(classification_report(y_test,y_pred >= threshold))\n",
    "print(f1_score(y_test,y_pred >= threshold,average='micro'))\n",
    "MLP_pred = y_pred >= threshold"
   ]
  },
  {
   "cell_type": "markdown",
   "metadata": {
    "colab_type": "text",
    "id": "HEdEqjfugq4m"
   },
   "source": [
    "# CNN"
   ]
  },
  {
   "cell_type": "code",
   "execution_count": 0,
   "metadata": {
    "colab": {},
    "colab_type": "code",
    "id": "fmHAlDXMhm2g"
   },
   "outputs": [],
   "source": [
    "# split X,y train,test,and validation\n",
    "X_train = df_train.iloc[:, 1:].values\n",
    "y_train = df_train.iloc[:,:1].values\n",
    "\n",
    "X_valid = df_valid.iloc[:, 1:].values\n",
    "y_valid = df_valid.iloc[:,:1].values\n",
    "\n",
    "X_test = df_test.iloc[:, 1:].values\n",
    "y_test = df_test.iloc[:,:1].values"
   ]
  },
  {
   "cell_type": "code",
   "execution_count": 0,
   "metadata": {
    "colab": {},
    "colab_type": "code",
    "id": "xCQOMM8qxdAI"
   },
   "outputs": [],
   "source": [
    "#data scaling\n",
    "X_train = ((X_train - np.mean(X_train, axis=1).reshape(-1,1)) / np.std(X_train, axis=1).reshape(-1,1))[:,:,np.newaxis]\n",
    "X_valid = ((X_valid - np.mean(X_valid, axis=1).reshape(-1,1)) / np.std(X_valid, axis=1).reshape(-1,1))[:,:,np.newaxis]\n",
    "X_test = ((X_test - np.mean(X_test, axis=1).reshape(-1,1)) / np.std(X_test, axis=1).reshape(-1,1))[:,:,np.newaxis]\n"
   ]
  },
  {
   "cell_type": "code",
   "execution_count": 0,
   "metadata": {
    "colab": {
     "base_uri": "https://localhost:8080/",
     "height": 1000
    },
    "colab_type": "code",
    "executionInfo": {
     "elapsed": 120992,
     "status": "ok",
     "timestamp": 1588127019178,
     "user": {
      "displayName": "Zhilin Wang",
      "photoUrl": "https://lh3.googleusercontent.com/a-/AOh14GhhIeEJIxOMD4YHK51w_esnK3UaDkTvIpTHUfeY=s64",
      "userId": "00962311773677700245"
     },
     "user_tz": 240
    },
    "id": "RSl3N_Xea4bR",
    "outputId": "1f7fe5e0-e216-41fd-d059-6fecd566cfbd"
   },
   "outputs": [
    {
     "name": "stdout",
     "output_type": "stream",
     "text": [
      "Model: \"sequential_6\"\n",
      "_________________________________________________________________\n",
      "Layer (type)                 Output Shape              Param #   \n",
      "=================================================================\n",
      "conv1d_5 (Conv1D)            (None, 31, 8)             32        \n",
      "_________________________________________________________________\n",
      "batch_normalization_5 (Batch (None, 31, 8)             32        \n",
      "_________________________________________________________________\n",
      "conv1d_6 (Conv1D)            (None, 29, 16)            400       \n",
      "_________________________________________________________________\n",
      "batch_normalization_6 (Batch (None, 29, 16)            64        \n",
      "_________________________________________________________________\n",
      "conv1d_7 (Conv1D)            (None, 27, 32)            1568      \n",
      "_________________________________________________________________\n",
      "batch_normalization_7 (Batch (None, 27, 32)            128       \n",
      "_________________________________________________________________\n",
      "conv1d_8 (Conv1D)            (None, 25, 64)            6208      \n",
      "_________________________________________________________________\n",
      "max_pooling1d_2 (MaxPooling1 (None, 12, 64)            0         \n",
      "_________________________________________________________________\n",
      "flatten_2 (Flatten)          (None, 768)               0         \n",
      "_________________________________________________________________\n",
      "dropout_27 (Dropout)         (None, 768)               0         \n",
      "_________________________________________________________________\n",
      "dense_32 (Dense)             (None, 128)               98432     \n",
      "_________________________________________________________________\n",
      "dropout_28 (Dropout)         (None, 128)               0         \n",
      "_________________________________________________________________\n",
      "batch_normalization_8 (Batch (None, 128)               512       \n",
      "_________________________________________________________________\n",
      "dense_33 (Dense)             (None, 64)                8256      \n",
      "_________________________________________________________________\n",
      "dense_34 (Dense)             (None, 1)                 65        \n",
      "=================================================================\n",
      "Total params: 115,697\n",
      "Trainable params: 115,329\n",
      "Non-trainable params: 368\n",
      "_________________________________________________________________\n",
      "Train on 5532 samples, validate on 1383 samples\n",
      "Epoch 1/100\n",
      "5532/5532 [==============================] - 1s 192us/step - loss: 0.6099 - accuracy: 0.6820 - val_loss: 0.6870 - val_accuracy: 0.4975\n",
      "Epoch 2/100\n",
      "5532/5532 [==============================] - 0s 72us/step - loss: 0.5748 - accuracy: 0.7034 - val_loss: 0.6716 - val_accuracy: 0.7274\n",
      "Epoch 3/100\n",
      "5532/5532 [==============================] - 0s 70us/step - loss: 0.5641 - accuracy: 0.7113 - val_loss: 0.6553 - val_accuracy: 0.7231\n",
      "Epoch 4/100\n",
      "5532/5532 [==============================] - 0s 70us/step - loss: 0.5617 - accuracy: 0.7144 - val_loss: 0.6533 - val_accuracy: 0.6956\n",
      "Epoch 5/100\n",
      "5532/5532 [==============================] - 0s 72us/step - loss: 0.5610 - accuracy: 0.7115 - val_loss: 0.6180 - val_accuracy: 0.6782\n",
      "Epoch 6/100\n",
      "5532/5532 [==============================] - 0s 70us/step - loss: 0.5615 - accuracy: 0.7128 - val_loss: 0.5815 - val_accuracy: 0.7274\n",
      "Epoch 7/100\n",
      "5532/5532 [==============================] - 0s 70us/step - loss: 0.5546 - accuracy: 0.7178 - val_loss: 0.5573 - val_accuracy: 0.7289\n",
      "Epoch 8/100\n",
      "5532/5532 [==============================] - 0s 69us/step - loss: 0.5525 - accuracy: 0.7229 - val_loss: 0.5716 - val_accuracy: 0.7151\n",
      "Epoch 9/100\n",
      "5532/5532 [==============================] - 0s 70us/step - loss: 0.5508 - accuracy: 0.7223 - val_loss: 0.5641 - val_accuracy: 0.6999\n",
      "Epoch 10/100\n",
      "5532/5532 [==============================] - 0s 74us/step - loss: 0.5526 - accuracy: 0.7195 - val_loss: 0.5394 - val_accuracy: 0.7303\n",
      "Epoch 11/100\n",
      "5532/5532 [==============================] - 0s 73us/step - loss: 0.5499 - accuracy: 0.7238 - val_loss: 0.5424 - val_accuracy: 0.7325\n",
      "Epoch 12/100\n",
      "5532/5532 [==============================] - 0s 75us/step - loss: 0.5517 - accuracy: 0.7214 - val_loss: 0.5352 - val_accuracy: 0.7332\n",
      "Epoch 13/100\n",
      "5532/5532 [==============================] - 0s 70us/step - loss: 0.5530 - accuracy: 0.7242 - val_loss: 0.5422 - val_accuracy: 0.7274\n",
      "Epoch 14/100\n",
      "5532/5532 [==============================] - 0s 73us/step - loss: 0.5468 - accuracy: 0.7216 - val_loss: 0.5379 - val_accuracy: 0.7390\n",
      "Epoch 15/100\n",
      "5532/5532 [==============================] - 0s 69us/step - loss: 0.5484 - accuracy: 0.7296 - val_loss: 0.5590 - val_accuracy: 0.7296\n",
      "Epoch 16/100\n",
      "5532/5532 [==============================] - 0s 69us/step - loss: 0.5467 - accuracy: 0.7301 - val_loss: 0.5472 - val_accuracy: 0.7296\n",
      "Epoch 17/100\n",
      "5532/5532 [==============================] - 0s 69us/step - loss: 0.5434 - accuracy: 0.7243 - val_loss: 0.5397 - val_accuracy: 0.7303\n",
      "Epoch 18/100\n",
      "5532/5532 [==============================] - 0s 69us/step - loss: 0.5440 - accuracy: 0.7238 - val_loss: 0.5505 - val_accuracy: 0.7346\n",
      "Epoch 19/100\n",
      "5532/5532 [==============================] - 0s 69us/step - loss: 0.5447 - accuracy: 0.7229 - val_loss: 0.5542 - val_accuracy: 0.7310\n",
      "Epoch 20/100\n",
      "5532/5532 [==============================] - 0s 69us/step - loss: 0.5484 - accuracy: 0.7252 - val_loss: 0.5594 - val_accuracy: 0.7216\n",
      "Epoch 21/100\n",
      "5532/5532 [==============================] - 0s 69us/step - loss: 0.5451 - accuracy: 0.7251 - val_loss: 0.5428 - val_accuracy: 0.7368\n",
      "Epoch 22/100\n",
      "5532/5532 [==============================] - 0s 70us/step - loss: 0.5413 - accuracy: 0.7216 - val_loss: 0.5347 - val_accuracy: 0.7390\n",
      "Epoch 23/100\n",
      "5532/5532 [==============================] - 0s 70us/step - loss: 0.5437 - accuracy: 0.7213 - val_loss: 0.5398 - val_accuracy: 0.7310\n",
      "Epoch 24/100\n",
      "5532/5532 [==============================] - 0s 69us/step - loss: 0.5421 - accuracy: 0.7209 - val_loss: 0.5475 - val_accuracy: 0.7303\n",
      "Epoch 25/100\n",
      "5532/5532 [==============================] - 0s 70us/step - loss: 0.5459 - accuracy: 0.7218 - val_loss: 0.5424 - val_accuracy: 0.7317\n",
      "Epoch 26/100\n",
      "5532/5532 [==============================] - 0s 70us/step - loss: 0.5449 - accuracy: 0.7211 - val_loss: 0.5380 - val_accuracy: 0.7325\n",
      "Epoch 27/100\n",
      "5532/5532 [==============================] - 0s 70us/step - loss: 0.5412 - accuracy: 0.7245 - val_loss: 0.5482 - val_accuracy: 0.7426\n",
      "Epoch 28/100\n",
      "5532/5532 [==============================] - 0s 69us/step - loss: 0.5444 - accuracy: 0.7254 - val_loss: 0.5347 - val_accuracy: 0.7368\n",
      "Epoch 29/100\n",
      "5532/5532 [==============================] - 0s 69us/step - loss: 0.5406 - accuracy: 0.7274 - val_loss: 0.5352 - val_accuracy: 0.7332\n",
      "Epoch 30/100\n",
      "5532/5532 [==============================] - 0s 70us/step - loss: 0.5411 - accuracy: 0.7272 - val_loss: 0.5413 - val_accuracy: 0.7296\n",
      "Epoch 31/100\n",
      "5532/5532 [==============================] - 0s 70us/step - loss: 0.5415 - accuracy: 0.7254 - val_loss: 0.5338 - val_accuracy: 0.7390\n",
      "Epoch 32/100\n",
      "5532/5532 [==============================] - 0s 71us/step - loss: 0.5411 - accuracy: 0.7279 - val_loss: 0.5467 - val_accuracy: 0.7383\n",
      "Epoch 33/100\n",
      "5532/5532 [==============================] - 0s 73us/step - loss: 0.5406 - accuracy: 0.7223 - val_loss: 0.5415 - val_accuracy: 0.7289\n",
      "Epoch 34/100\n",
      "5532/5532 [==============================] - 0s 70us/step - loss: 0.5406 - accuracy: 0.7234 - val_loss: 0.5383 - val_accuracy: 0.7361\n",
      "Epoch 35/100\n",
      "5532/5532 [==============================] - 0s 71us/step - loss: 0.5394 - accuracy: 0.7256 - val_loss: 0.5378 - val_accuracy: 0.7354\n",
      "Epoch 36/100\n",
      "5532/5532 [==============================] - 0s 70us/step - loss: 0.5419 - accuracy: 0.7223 - val_loss: 0.5384 - val_accuracy: 0.7411\n",
      "Epoch 37/100\n",
      "5532/5532 [==============================] - 0s 70us/step - loss: 0.5398 - accuracy: 0.7254 - val_loss: 0.5405 - val_accuracy: 0.7411\n",
      "Epoch 38/100\n",
      "5532/5532 [==============================] - 0s 70us/step - loss: 0.5397 - accuracy: 0.7270 - val_loss: 0.5387 - val_accuracy: 0.7346\n",
      "Epoch 39/100\n",
      "5532/5532 [==============================] - 0s 69us/step - loss: 0.5437 - accuracy: 0.7249 - val_loss: 0.5388 - val_accuracy: 0.7296\n",
      "Epoch 40/100\n",
      "5532/5532 [==============================] - 0s 71us/step - loss: 0.5415 - accuracy: 0.7258 - val_loss: 0.5356 - val_accuracy: 0.7325\n",
      "Epoch 41/100\n",
      "5532/5532 [==============================] - 0s 69us/step - loss: 0.5421 - accuracy: 0.7225 - val_loss: 0.5383 - val_accuracy: 0.7411\n",
      "Epoch 42/100\n",
      "5532/5532 [==============================] - 0s 70us/step - loss: 0.5394 - accuracy: 0.7220 - val_loss: 0.5368 - val_accuracy: 0.7404\n",
      "Epoch 43/100\n",
      "5532/5532 [==============================] - 0s 69us/step - loss: 0.5421 - accuracy: 0.7236 - val_loss: 0.5357 - val_accuracy: 0.7346\n",
      "Epoch 44/100\n",
      "5532/5532 [==============================] - 0s 68us/step - loss: 0.5402 - accuracy: 0.7251 - val_loss: 0.5381 - val_accuracy: 0.7303\n",
      "Epoch 45/100\n",
      "5532/5532 [==============================] - 0s 70us/step - loss: 0.5412 - accuracy: 0.7245 - val_loss: 0.5382 - val_accuracy: 0.7325\n",
      "Epoch 46/100\n",
      "5532/5532 [==============================] - 0s 71us/step - loss: 0.5380 - accuracy: 0.7205 - val_loss: 0.5350 - val_accuracy: 0.7404\n",
      "Epoch 47/100\n",
      "5532/5532 [==============================] - 0s 69us/step - loss: 0.5394 - accuracy: 0.7307 - val_loss: 0.5353 - val_accuracy: 0.7368\n",
      "Epoch 48/100\n",
      "5532/5532 [==============================] - 0s 70us/step - loss: 0.5419 - accuracy: 0.7218 - val_loss: 0.5375 - val_accuracy: 0.7383\n",
      "Epoch 49/100\n",
      "5532/5532 [==============================] - 0s 69us/step - loss: 0.5410 - accuracy: 0.7220 - val_loss: 0.5408 - val_accuracy: 0.7361\n",
      "Epoch 50/100\n",
      "5532/5532 [==============================] - 0s 69us/step - loss: 0.5390 - accuracy: 0.7252 - val_loss: 0.5383 - val_accuracy: 0.7296\n",
      "Epoch 51/100\n",
      "5532/5532 [==============================] - 0s 71us/step - loss: 0.5413 - accuracy: 0.7247 - val_loss: 0.5360 - val_accuracy: 0.7397\n",
      "Epoch 52/100\n",
      "5532/5532 [==============================] - 0s 71us/step - loss: 0.5421 - accuracy: 0.7232 - val_loss: 0.5497 - val_accuracy: 0.7245\n",
      "Epoch 53/100\n",
      "5532/5532 [==============================] - 0s 70us/step - loss: 0.5402 - accuracy: 0.7238 - val_loss: 0.5498 - val_accuracy: 0.7245\n",
      "Epoch 54/100\n",
      "5532/5532 [==============================] - 0s 68us/step - loss: 0.5398 - accuracy: 0.7245 - val_loss: 0.5402 - val_accuracy: 0.7368\n",
      "Epoch 55/100\n",
      "5532/5532 [==============================] - 0s 71us/step - loss: 0.5399 - accuracy: 0.7222 - val_loss: 0.5471 - val_accuracy: 0.7390\n",
      "Epoch 56/100\n",
      "5532/5532 [==============================] - 0s 69us/step - loss: 0.5411 - accuracy: 0.7240 - val_loss: 0.5384 - val_accuracy: 0.7354\n",
      "Epoch 57/100\n",
      "5532/5532 [==============================] - 0s 69us/step - loss: 0.5394 - accuracy: 0.7252 - val_loss: 0.5368 - val_accuracy: 0.7383\n",
      "Epoch 58/100\n",
      "5532/5532 [==============================] - 0s 70us/step - loss: 0.5405 - accuracy: 0.7252 - val_loss: 0.5383 - val_accuracy: 0.7296\n",
      "Epoch 59/100\n",
      "5532/5532 [==============================] - 0s 70us/step - loss: 0.5386 - accuracy: 0.7218 - val_loss: 0.5365 - val_accuracy: 0.7368\n",
      "Epoch 60/100\n",
      "5532/5532 [==============================] - 0s 70us/step - loss: 0.5399 - accuracy: 0.7263 - val_loss: 0.5346 - val_accuracy: 0.7390\n",
      "Epoch 61/100\n",
      "5532/5532 [==============================] - 0s 71us/step - loss: 0.5382 - accuracy: 0.7232 - val_loss: 0.5422 - val_accuracy: 0.7375\n",
      "Epoch 00061: early stopping\n"
     ]
    },
    {
     "data": {
      "image/png": "[encoded data removed]",
      "text/plain": [
       "<Figure size 432x288 with 1 Axes>"
      ]
     },
     "metadata": {
      "tags": []
     },
     "output_type": "display_data"
    },
    {
     "name": "stdout",
     "output_type": "stream",
     "text": [
      "              precision    recall  f1-score   support\n",
      "\n",
      "           0       0.73      0.72      0.72      1480\n",
      "           1       0.72      0.73      0.73      1484\n",
      "\n",
      "    accuracy                           0.72      2964\n",
      "   macro avg       0.72      0.72      0.72      2964\n",
      "weighted avg       0.72      0.72      0.72      2964\n",
      "\n",
      "0.7236842105263158\n"
     ]
    }
   ],
   "source": [
    "#build model\n",
    "model = Sequential()\n",
    "model.add(Conv1D(filters=8, kernel_size=3, activation='relu', input_shape=X_train.shape[1:]))\n",
    "\n",
    "model.add(BatchNormalization())\n",
    "model.add(Conv1D(filters=16, kernel_size=3, activation='relu'))\n",
    "\n",
    "model.add(BatchNormalization())\n",
    "model.add(Conv1D(filters=32, kernel_size=3, activation='relu'))\n",
    "\n",
    "model.add(BatchNormalization())\n",
    "model.add(Conv1D(filters=64, kernel_size=3, activation='relu'))\n",
    "\n",
    "model.add(MaxPool1D(strides=2))\n",
    "\n",
    "model.add(Flatten())\n",
    "model.add(Dropout(0.5))\n",
    "model.add(Dense(128, activation='relu'))\n",
    "model.add(Dropout(0.5))\n",
    "model.add(BatchNormalization())\n",
    "model.add(Dense(64, activation='relu'))\n",
    "model.add(Dense(1, activation='sigmoid'))\n",
    "model.summary()\n",
    "\n",
    "# if not doing oversampling, set class_weight to auto\n",
    "model.compile(optimizer='rmsprop', loss = 'binary_crossentropy', metrics=['accuracy'])\n",
    "history = model.fit(X_train, y_train, batch_size=128, epochs = 100, class_weight = 'auto', validation_data=(X_valid, y_valid),\n",
    "          callbacks=([EarlyStopping(monitor = 'val_loss',mode = 'min',verbose = 1, patience = 30),\n",
    "                      ModelCheckpoint(\"CNN_model.hdf5\", monitor=\"val_loss\", save_best_only =True)]))\n",
    "\n",
    "# plot loss\n",
    "plt.style.use('ggplot')\n",
    "plt.figure()\n",
    "plt.plot(history.history['loss'])\n",
    "plt.plot(history.history['val_loss'])\n",
    "plt.title('Model loss')\n",
    "plt.ylabel('Loss')\n",
    "plt.xlabel('Epoch')\n",
    "plt.legend(['Train', 'Test'], loc='upper left')\n",
    "plt.show()\n",
    "\n",
    "#check the model result\n",
    "model = lm('CNN_model.hdf5')\n",
    "y_pred = model.predict(X_test)\n",
    "threshold = 0.5\n",
    "#print the f1 score and classification report\n",
    "print(classification_report(y_test,y_pred >= threshold))\n",
    "print(f1_score(y_test,y_pred >= threshold,average='micro'))\n"
   ]
  },
  {
   "cell_type": "markdown",
   "metadata": {
    "colab_type": "text",
    "id": "vxAJmOJOltWP"
   },
   "source": [
    "# Loss Comparison"
   ]
  },
  {
   "cell_type": "code",
   "execution_count": 0,
   "metadata": {
    "colab": {
     "base_uri": "https://localhost:8080/",
     "height": 303
    },
    "colab_type": "code",
    "executionInfo": {
     "elapsed": 120986,
     "status": "ok",
     "timestamp": 1588127019179,
     "user": {
      "displayName": "Zhilin Wang",
      "photoUrl": "https://lh3.googleusercontent.com/a-/AOh14GhhIeEJIxOMD4YHK51w_esnK3UaDkTvIpTHUfeY=s64",
      "userId": "00962311773677700245"
     },
     "user_tz": 240
    },
    "id": "1bvxfOiWtFHq",
    "outputId": "08ed882e-1d07-4faf-b91d-ae154d641511"
   },
   "outputs": [
    {
     "data": {
      "text/plain": [
       "Text(0.5, 0, 'model')"
      ]
     },
     "execution_count": 181,
     "metadata": {
      "tags": []
     },
     "output_type": "execute_result"
    },
    {
     "data": {
      "image/png": "[encoded data removed]",
      "text/plain": [
       "<Figure size 432x288 with 1 Axes>"
      ]
     },
     "metadata": {
      "tags": []
     },
     "output_type": "display_data"
    }
   ],
   "source": [
    "#reshape y_test to be an array of 1 and 0\n",
    "yT = y_test.reshape(len(y_test))\n",
    "#calculate CNN predicton\n",
    "CNN_pred = (y_pred >= threshold).reshape(len(y_test))\n",
    "from sklearn.metrics import log_loss\n",
    "loss_list = []\n",
    "#store the loss value in the list\n",
    "for pred in pred_list:\n",
    "  loss_list.append(log_loss(pred,yT))\n",
    "loss_list.append(log_loss(MLP_pred,yT))\n",
    "loss_list.append(log_loss(CNN_pred,yT))\n",
    "#plot the loss for different models\n",
    "plt.ylim(top=10) \n",
    "plt.ylim(bottom=9) \n",
    "plt.bar(['RF','XGB','Logistic','HGB','DecisionT','MLP','CNN'],loss_list)\n",
    "plt.ylabel('loss')\n",
    "plt.xlabel('model')\n"
   ]
  }
 ],
 "metadata": {
  "accelerator": "GPU",
  "colab": {
   "collapsed_sections": [
    "-E_ice24Qb5r",
    "bsx_w6htQb50",
    "5BgeibpNXVpy",
    "o8UDcrOyXVp5",
    "4BGXNG63XVp5",
    "yIFwtIjpXVqE",
    "A7AtBmguXVqG",
    "2cg0ACeBXVqR",
    "vxAJmOJOltWP"
   ],
   "machine_shape": "hm",
   "name": "Final_project_v1.ipynb",
   "provenance": []
  },
  "kernelspec": {
   "display_name": "Python 3",
   "language": "python",
   "name": "python3"
  },
  "language_info": {
   "codemirror_mode": {
    "name": "ipython",
    "version": 3
   },
   "file_extension": ".py",
   "mimetype": "text/x-python",
   "name": "python",
   "nbconvert_exporter": "python",
   "pygments_lexer": "ipython3",
   "version": "3.7.3"
  },
  "toc": {
   "base_numbering": 1,
   "nav_menu": {},
   "number_sections": true,
   "sideBar": true,
   "skip_h1_title": false,
   "title_cell": "Table of Contents",
   "title_sidebar": "Contents",
   "toc_cell": true,
   "toc_position": {},
   "toc_section_display": true,
   "toc_window_display": false
  }
 },
 "nbformat": 4,
 "nbformat_minor": 1
}
